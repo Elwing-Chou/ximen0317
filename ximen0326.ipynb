{
  "nbformat": 4,
  "nbformat_minor": 0,
  "metadata": {
    "colab": {
      "provenance": [],
      "authorship_tag": "ABX9TyP2c5NZZHvA5hDecOf1arsw",
      "include_colab_link": true
    },
    "kernelspec": {
      "name": "python3",
      "display_name": "Python 3"
    },
    "language_info": {
      "name": "python"
    }
  },
  "cells": [
    {
      "cell_type": "markdown",
      "metadata": {
        "id": "view-in-github",
        "colab_type": "text"
      },
      "source": [
        "<a href=\"https://colab.research.google.com/github/Elwing-Chou/ximen0317/blob/main/ximen0326.ipynb\" target=\"_parent\"><img src=\"https://colab.research.google.com/assets/colab-badge.svg\" alt=\"Open In Colab\"/></a>"
      ]
    },
    {
      "cell_type": "code",
      "source": [
        "import random\n",
        "\n",
        "times = 100\n",
        "freq = [0] * 10\n",
        "i = 0\n",
        "while i < times:\n",
        "    n = random.randint(0, 9)\n",
        "    freq[n] = freq[n] + 1\n",
        "    i = i + 1\n",
        "print(freq)"
      ],
      "metadata": {
        "colab": {
          "base_uri": "https://localhost:8080/"
        },
        "id": "44BkCZRnJASl",
        "outputId": "6745de69-7c04-4bef-93c7-cb612f94312e"
      },
      "execution_count": 1,
      "outputs": [
        {
          "output_type": "stream",
          "name": "stdout",
          "text": [
            "[10, 11, 7, 10, 11, 13, 11, 5, 13, 9]\n"
          ]
        }
      ]
    },
    {
      "cell_type": "code",
      "execution_count": 3,
      "metadata": {
        "colab": {
          "base_uri": "https://localhost:8080/"
        },
        "id": "SCRTxh09I8Xb",
        "outputId": "e1321afc-3568-4a7e-e72c-848dd78e57dc"
      },
      "outputs": [
        {
          "output_type": "stream",
          "name": "stdout",
          "text": [
            "[34, 41, 25]\n"
          ]
        }
      ],
      "source": [
        "# optimize\n",
        "import random\n",
        "\n",
        "low, high = 50, 52\n",
        "kind = high - low + 1\n",
        "times = 100\n",
        "freq = [0] * kind\n",
        "i = 0\n",
        "while i < times:\n",
        "    n = random.randint(low, high)\n",
        "    freq[n-low] = freq[n-low] + 1\n",
        "    i = i + 1\n",
        "print(freq)"
      ]
    }
  ]
}