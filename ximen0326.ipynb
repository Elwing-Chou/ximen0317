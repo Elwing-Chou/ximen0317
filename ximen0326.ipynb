{
  "nbformat": 4,
  "nbformat_minor": 0,
  "metadata": {
    "colab": {
      "provenance": [],
      "authorship_tag": "ABX9TyMAdZmJ5QvZj24P0uHSCAxU",
      "include_colab_link": true
    },
    "kernelspec": {
      "name": "python3",
      "display_name": "Python 3"
    },
    "language_info": {
      "name": "python"
    }
  },
  "cells": [
    {
      "cell_type": "markdown",
      "metadata": {
        "id": "view-in-github",
        "colab_type": "text"
      },
      "source": [
        "<a href=\"https://colab.research.google.com/github/Elwing-Chou/ximen0317/blob/main/ximen0326.ipynb\" target=\"_parent\"><img src=\"https://colab.research.google.com/assets/colab-badge.svg\" alt=\"Open In Colab\"/></a>"
      ]
    },
    {
      "cell_type": "code",
      "source": [
        "import random\n",
        "\n",
        "times = 5\n",
        "freq = [0] * 10\n",
        "i = 0\n",
        "while i < times:\n",
        "    n = random.randint(0, 9)\n",
        "    freq[n] = freq[n] + 1\n",
        "    i = i + 1\n",
        "print(freq)"
      ],
      "metadata": {
        "colab": {
          "base_uri": "https://localhost:8080/"
        },
        "id": "44BkCZRnJASl",
        "outputId": "e58f578c-a4ff-4c05-b490-61ab084f4da5"
      },
      "execution_count": 6,
      "outputs": [
        {
          "output_type": "stream",
          "name": "stdout",
          "text": [
            "[1, 0, 1, 1, 0, 0, 2, 0, 0, 0]\n"
          ]
        }
      ]
    },
    {
      "cell_type": "code",
      "execution_count": 3,
      "metadata": {
        "colab": {
          "base_uri": "https://localhost:8080/"
        },
        "id": "SCRTxh09I8Xb",
        "outputId": "e1321afc-3568-4a7e-e72c-848dd78e57dc"
      },
      "outputs": [
        {
          "output_type": "stream",
          "name": "stdout",
          "text": [
            "[34, 41, 25]\n"
          ]
        }
      ],
      "source": [
        "# optimize\n",
        "import random\n",
        "\n",
        "low, high = 50, 52\n",
        "kind = high - low + 1\n",
        "times = 100\n",
        "freq = [0] * kind\n",
        "i = 0\n",
        "while i < times:\n",
        "    n = random.randint(low, high)\n",
        "    freq[n-low] = freq[n-low] + 1\n",
        "    i = i + 1\n",
        "print(freq)"
      ]
    },
    {
      "cell_type": "markdown",
      "source": [
        "\n",
        "\n",
        "```\n",
        "密碼學\n",
        "1. 凱薩密碼:\n",
        "假設我們這個月的暗號是2\n",
        "你寫apple每個字母就要往後2個crrng\n",
        "\n",
        "2. 維吉尼亞密碼:\n",
        "a b c .... z\n",
        "d g f .... b\n",
        "暴力破解: 26 * 25 * 24 * 1 -> 26!\n",
        "接近10^30種: 不行暴力破解\n",
        "\n",
        "語言統計學: 字母頻率+biword\n",
        "\n",
        "3. Enigma\n",
        "加大維吉尼亞密碼的統計難度\n",
        "a .......z\n",
        "打亂第一套\n",
        "a .......z\n",
        "打亂第二套\n",
        "\n",
        "打亂第五套\n",
        "\n",
        "apples\n",
        "123451\n",
        "\n",
        "Alan Turing: 圖靈(模仿遊戲)\n",
        "\n",
        "```\n",
        "\n"
      ],
      "metadata": {
        "id": "JexWYS4ONRVP"
      }
    },
    {
      "cell_type": "code",
      "source": [
        "s = \"applez\"\n",
        "shift = 2\n",
        "# crrngb\n",
        "result = \"\"\n",
        "\n",
        "i = 0\n",
        "while i < len(s):\n",
        "    # 拿出每一個字母 s[]\n",
        "    # ASCII編碼表: 每一個->編碼成電腦01001\n",
        "    # ord(\"a\")->編碼(97-122)\n",
        "    # 0(a)-25(z)->shift2->97-122\n",
        "    # 解碼 chr(97)\n",
        "    i = i + 1\n",
        "print(result)"
      ],
      "metadata": {
        "id": "53Z_nilFRx1I"
      },
      "execution_count": null,
      "outputs": []
    }
  ]
}