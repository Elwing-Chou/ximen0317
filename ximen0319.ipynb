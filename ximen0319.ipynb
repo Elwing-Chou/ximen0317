{
  "nbformat": 4,
  "nbformat_minor": 0,
  "metadata": {
    "colab": {
      "provenance": [],
      "authorship_tag": "ABX9TyN9Pmpz031OgaOJMQjkAmgT",
      "include_colab_link": true
    },
    "kernelspec": {
      "name": "python3",
      "display_name": "Python 3"
    },
    "language_info": {
      "name": "python"
    }
  },
  "cells": [
    {
      "cell_type": "markdown",
      "metadata": {
        "id": "view-in-github",
        "colab_type": "text"
      },
      "source": [
        "<a href=\"https://colab.research.google.com/github/Elwing-Chou/ximen0317/blob/main/ximen0319.ipynb\" target=\"_parent\"><img src=\"https://colab.research.google.com/assets/colab-badge.svg\" alt=\"Open In Colab\"/></a>"
      ]
    },
    {
      "cell_type": "markdown",
      "source": [
        "\n",
        "```\n",
        "1. 寫程式前: 放下鍵盤 放下滑鼠\n",
        "* 重點是想, 想最關鍵的部分\n",
        "\n",
        "2. 核心邏輯: 剪刀石頭部類型的遊戲, 勝負關係只發生在相鄰的兩種拳上, 所以我們應該把我們的case 就win/lose/even三種狀況討論, 而不是3x3, 4x4\n",
        "\n",
        "3. 細節: 三種拳應該用數字, 因為他是有大小關係\n",
        "\n",
        "```\n"
      ],
      "metadata": {
        "id": "yd6vyEzyGRrF"
      }
    },
    {
      "cell_type": "markdown",
      "source": [
        "```\n",
        "語法\n",
        "\n",
        "1. 只要用到別隻.py(python內建/你寫的/第三方), 你就要先引用\n",
        "\n",
        "import .py名字\n",
        "(import後面先照抄一次).某個東西\n",
        "\n",
        "*: .是\"的\"的意思\n",
        "*: 除了最內建的built-in funcion以外都要引用\n",
        "https://docs.python.org/3/library/functions.html\n",
        "\n",
        "2. list型態(清單)\n",
        "trans = [\"剪刀\", \"xxx\", \"xxx\"]\n",
        "\n",
        "python會給key(預設編號) 0  1  2\n",
        "有key就會有一個操作, 查詢操作(key-value): 查東西[key]\n",
        "\n",
        "3. 多個情況(如果...否則如果...否則如果...否則)(單選題)\n",
        "if bmi > 25:\n",
        "    print(\"\")\n",
        "elif bmi > 18:\n",
        "    print(\"\")\n",
        "else:\n",
        "    print(\"\")\n",
        "* 篩選 嚴格放上\n",
        "* else比較像是default case, 可以不寫\n",
        "* else非常強, 因為最難的可以放在這裡\n",
        "\n",
        "```"
      ],
      "metadata": {
        "id": "pc7TSwnrOLFd"
      }
    },
    {
      "cell_type": "markdown",
      "source": [
        "```\n",
        "問題: 2 + 1 -> 3(X) 0(o)\n",
        "想法: 當你超過的時候, -3\n",
        "\n",
        "所以當你不能直接-的時候, 你需要一個高級的減法\n",
        "這個高級的減法是超過才減\n",
        "\n",
        "7 / 3 = 2...1\n",
        "取商: 7 // 3 -> 2\n",
        "取餘(mod): 7 % 3 -> 1: 輪迴\n",
        "\n",
        "0 % 3 -> 0\n",
        "1 % 3 -> 1\n",
        "2 % 3 -> 2\n",
        "3 % 3 -> 0\n",
        "4    -> 1\n",
        "5    -> 2\n",
        "6    -> 0\n",
        "\n",
        "* 1. 對誰取\n",
        "0-5: %6\n",
        "0-x: %(x+1)\n",
        "* 2. 哪裡取\n",
        "超過就取\n",
        "\n",
        "```"
      ],
      "metadata": {
        "id": "dZaUfWlLdqSl"
      }
    },
    {
      "cell_type": "code",
      "execution_count": 16,
      "metadata": {
        "colab": {
          "base_uri": "https://localhost:8080/"
        },
        "id": "g5FWgCT-F5nd",
        "outputId": "3615d6a1-8da8-4199-8f85-d0d1f472408f"
      },
      "outputs": [
        {
          "output_type": "stream",
          "name": "stdout",
          "text": [
            "請出拳 0.剪刀 1.石頭 2.布:0\n",
            "我出的: 剪刀\n",
            "電腦的: 布\n",
            "WIN\n"
          ]
        }
      ],
      "source": [
        "import random\n",
        "\n",
        "trans = [\"剪刀\", \"石頭\", \"布\"]\n",
        "my = int(input(\"請出拳 0.剪刀 1.石頭 2.布:\"))\n",
        "com = random.randint(0, 2)\n",
        "print(\"我出的:\", trans[my])\n",
        "print(\"電腦的:\", trans[com])\n",
        "\n",
        "# 我出的拳是電腦的下一個, win\n",
        "if my == (com + 1) % 3:\n",
        "    print(\"WIN\")\n",
        "elif com == (my + 1) % 3:\n",
        "    print(\"LOSE\")\n",
        "else:\n",
        "    print(\"EVEN\")"
      ]
    },
    {
      "cell_type": "code",
      "source": [
        "# key-value查詢\n",
        "s = \"apple\"\n",
        "print(s[0])"
      ],
      "metadata": {
        "colab": {
          "base_uri": "https://localhost:8080/"
        },
        "id": "u7hA0LD_TTFN",
        "outputId": "7a269b94-4c5b-42e8-99d3-b109bdf08e32"
      },
      "execution_count": 12,
      "outputs": [
        {
          "output_type": "stream",
          "name": "stdout",
          "text": [
            "a\n"
          ]
        }
      ]
    }
  ]
}