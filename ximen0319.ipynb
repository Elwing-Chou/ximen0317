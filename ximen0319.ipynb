{
  "nbformat": 4,
  "nbformat_minor": 0,
  "metadata": {
    "colab": {
      "provenance": [],
      "authorship_tag": "ABX9TyO/UeN3nkT0Bcbkv3CxwVh3",
      "include_colab_link": true
    },
    "kernelspec": {
      "name": "python3",
      "display_name": "Python 3"
    },
    "language_info": {
      "name": "python"
    }
  },
  "cells": [
    {
      "cell_type": "markdown",
      "metadata": {
        "id": "view-in-github",
        "colab_type": "text"
      },
      "source": [
        "<a href=\"https://colab.research.google.com/github/Elwing-Chou/ximen0317/blob/main/ximen0319.ipynb\" target=\"_parent\"><img src=\"https://colab.research.google.com/assets/colab-badge.svg\" alt=\"Open In Colab\"/></a>"
      ]
    },
    {
      "cell_type": "markdown",
      "source": [
        "\n",
        "```\n",
        "1. 寫程式前: 放下鍵盤 放下滑鼠\n",
        "* 重點是想, 想最關鍵的部分\n",
        "\n",
        "2. 核心邏輯: 剪刀石頭部類型的遊戲, 勝負關係只發生在相鄰的兩種拳上, 所以我們應該把我們的case 就win/lose/even三種狀況討論, 而不是3x3, 4x4\n",
        "\n",
        "3. 細節: 三種拳應該用數字, 因為他是有大小關係\n",
        "\n",
        "```\n"
      ],
      "metadata": {
        "id": "yd6vyEzyGRrF"
      }
    },
    {
      "cell_type": "markdown",
      "source": [
        "```\n",
        "語法\n",
        "\n",
        "1. 只要用到別隻.py(python內建/你寫的/第三方), 你就要先引用\n",
        "\n",
        "import .py名字\n",
        "(import後面先照抄一次).某個東西\n",
        "\n",
        "*: .是\"的\"的意思\n",
        "*: 除了最內建的built-in funcion以外都要引用\n",
        "https://docs.python.org/3/library/functions.html\n",
        "\n",
        "2. list型態(清單)\n",
        "trans = [\"剪刀\", \"xxx\", \"xxx\"]\n",
        "\n",
        "python會給key(預設編號) 0  1  2\n",
        "有key就會有一個操作, 查詢操作(key-value): 查東西[key]\n",
        "\n",
        "3. 多個情況(如果...否則如果...否則如果...否則)(單選題)\n",
        "if bmi > 25:\n",
        "    print(\"\")\n",
        "elif bmi > 18:\n",
        "    print(\"\")\n",
        "else:\n",
        "    print(\"\")\n",
        "* 篩選 嚴格放上\n",
        "* else比較像是default case, 可以不寫\n",
        "* else非常強, 因為最難的可以放在這裡\n",
        "\n",
        "```"
      ],
      "metadata": {
        "id": "pc7TSwnrOLFd"
      }
    },
    {
      "cell_type": "markdown",
      "source": [
        "```\n",
        "問題: 2 + 1 -> 3(X) 0(o)\n",
        "想法: 當你超過的時候, -3\n",
        "\n",
        "所以當你不能直接-的時候, 你需要一個高級的減法\n",
        "這個高級的減法是超過才減\n",
        "\n",
        "7 / 3 = 2...1\n",
        "取商: 7 // 3 -> 2: 分組\n",
        "取餘(mod): 7 % 3 -> 1: 輪迴\n",
        "\n",
        "0 % 3 -> 0\n",
        "1 % 3 -> 1\n",
        "2 % 3 -> 2\n",
        "3 % 3 -> 0\n",
        "4    -> 1\n",
        "5    -> 2\n",
        "6    -> 0\n",
        "\n",
        "* 1. 對誰取\n",
        "0-5: %6\n",
        "0-x: %(x+1)\n",
        "* 2. 哪裡取\n",
        "超過就取\n",
        "\n",
        "0 // 3:0\n",
        "1 // 3:0\n",
        "2 // 3:0\n",
        "3 // 3:1\n",
        "4 // 3:1\n",
        "5 // 3:1\n",
        "6 // 3:2\n",
        "\n",
        "```"
      ],
      "metadata": {
        "id": "dZaUfWlLdqSl"
      }
    },
    {
      "cell_type": "code",
      "execution_count": 16,
      "metadata": {
        "colab": {
          "base_uri": "https://localhost:8080/"
        },
        "id": "g5FWgCT-F5nd",
        "outputId": "3615d6a1-8da8-4199-8f85-d0d1f472408f"
      },
      "outputs": [
        {
          "output_type": "stream",
          "name": "stdout",
          "text": [
            "請出拳 0.剪刀 1.石頭 2.布:0\n",
            "我出的: 剪刀\n",
            "電腦的: 布\n",
            "WIN\n"
          ]
        }
      ],
      "source": [
        "import random\n",
        "\n",
        "trans = [\"剪刀\", \"石頭\", \"布\"]\n",
        "my = int(input(\"請出拳 0.剪刀 1.石頭 2.布:\"))\n",
        "com = random.randint(0, 2)\n",
        "print(\"我出的:\", trans[my])\n",
        "print(\"電腦的:\", trans[com])\n",
        "\n",
        "# 我出的拳是電腦的下一個, win\n",
        "if my == (com + 1) % 3:\n",
        "    print(\"WIN\")\n",
        "elif com == (my + 1) % 3:\n",
        "    print(\"LOSE\")\n",
        "else:\n",
        "    print(\"EVEN\")"
      ]
    },
    {
      "cell_type": "code",
      "source": [
        "# key-value查詢\n",
        "s = \"apple\"\n",
        "print(s[0])"
      ],
      "metadata": {
        "colab": {
          "base_uri": "https://localhost:8080/"
        },
        "id": "u7hA0LD_TTFN",
        "outputId": "7a269b94-4c5b-42e8-99d3-b109bdf08e32"
      },
      "execution_count": 12,
      "outputs": [
        {
          "output_type": "stream",
          "name": "stdout",
          "text": [
            "a\n"
          ]
        }
      ]
    },
    {
      "cell_type": "markdown",
      "source": [
        "![aaa.png](data:image/png;base64,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)"
      ],
      "metadata": {
        "id": "b1r-8yZ7jnVV"
      }
    },
    {
      "cell_type": "markdown",
      "source": [
        "```\n",
        "好用快捷鍵:\n",
        "ctrl + \"/\": 多行註解\n",
        "```"
      ],
      "metadata": {
        "id": "iC49doY6kLBF"
      }
    },
    {
      "cell_type": "code",
      "source": [
        "import random\n",
        "\n",
        "trans = [\"剪刀(0)\", \"石頭(0)\", \"布(0)\",\n",
        "     \"剪刀(1)\", \"石頭(1)\", \"布(1)\"]\n",
        "# my = int(input(\"請出拳 0-5:\"))\n",
        "# com = random.randint(0, 5)\n",
        "my = 3\n",
        "com = 5\n",
        "print(\"我出的:\", trans[my])\n",
        "print(\"電腦的:\", trans[com])\n",
        "\n",
        "# 取得my是哪一組, com是哪一組\n",
        "mygroup = my // 3\n",
        "comgroup = com // 3\n",
        "\n",
        "# 確定兩者是否為同一組\n",
        "if mygroup == comgroup:\n",
        "    print(\"同組\")\n",
        "    # 能夠到這裡my, com一定同組\n",
        "    # case1: 0~2\n",
        "    # case2: 3~5(0~2)\n",
        "    # 做一個調整, 不管哪一組近來都讓他變成0-2\n",
        "    my2 = my % 3\n",
        "    com2 = com % 3\n",
        "    print(\"換成:\", my2, com2)\n",
        "    if my2 == (com2 + 1) % 3:\n",
        "        print(\"WIN\")\n",
        "    elif com2 == (my2 + 1) % 3:\n",
        "        print(\"LOSE\")\n",
        "    else:\n",
        "        print(\"EVEN\")\n",
        "else:\n",
        "    print(\"平手(不同組)\")"
      ],
      "metadata": {
        "colab": {
          "base_uri": "https://localhost:8080/"
        },
        "id": "Wbh0HZI1jqBG",
        "outputId": "f8020e8e-ed63-4e3a-f875-4723b961731c"
      },
      "execution_count": 23,
      "outputs": [
        {
          "output_type": "stream",
          "name": "stdout",
          "text": [
            "我出的: 剪刀(1)\n",
            "電腦的: 布(1)\n",
            "同組\n",
            "換成: 0 2\n",
            "WIN\n"
          ]
        }
      ]
    },
    {
      "cell_type": "code",
      "source": [
        "import random\n",
        "# 簡化:\n",
        "# 假設我有個大富翁遊戲(5~14)\n",
        "# 現在我隨便假設一個初始位置\n",
        "pos = 13\n",
        "# 隨機一個step\n",
        "dice = random.randint(1, 6)\n",
        "print(\"色子:\", dice)\n",
        "# 現在新的位置在哪\n",
        "newpos = (pos - 5 + dice) % 10 + 5\n",
        "print(\"新的位置是:\", newpos)"
      ],
      "metadata": {
        "colab": {
          "base_uri": "https://localhost:8080/"
        },
        "id": "zTWzyWuvlkVl",
        "outputId": "2a115537-7a4e-494d-d4df-0492c1c42331"
      },
      "execution_count": 18,
      "outputs": [
        {
          "output_type": "stream",
          "name": "stdout",
          "text": [
            "色子: 2\n",
            "新的位置是: 5\n"
          ]
        }
      ]
    }
  ]
}