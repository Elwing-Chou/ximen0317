{
  "nbformat": 4,
  "nbformat_minor": 0,
  "metadata": {
    "colab": {
      "provenance": [],
      "authorship_tag": "ABX9TyNGG502t+1DktdouUrgDdok",
      "include_colab_link": true
    },
    "kernelspec": {
      "name": "python3",
      "display_name": "Python 3"
    },
    "language_info": {
      "name": "python"
    }
  },
  "cells": [
    {
      "cell_type": "markdown",
      "metadata": {
        "id": "view-in-github",
        "colab_type": "text"
      },
      "source": [
        "<a href=\"https://colab.research.google.com/github/Elwing-Chou/ximen0317/blob/main/ximen_0407.ipynb\" target=\"_parent\"><img src=\"https://colab.research.google.com/assets/colab-badge.svg\" alt=\"Open In Colab\"/></a>"
      ]
    },
    {
      "cell_type": "markdown",
      "source": [
        "\n",
        "\n",
        "```\n",
        "好用第三方函式庫:\n",
        "1. pandas: 表格函式庫\n",
        "2. matplotlib: 所有繪圖函式庫的基礎\n",
        "3. seaborn: 基於matplotlib延伸的函式庫\n",
        "\n",
        "```\n",
        "\n"
      ],
      "metadata": {
        "id": "lV-57efu-MAT"
      }
    },
    {
      "cell_type": "code",
      "source": [
        "# !開始代表他不是python語法, 而是command line命令\n",
        "!pip install pandas"
      ],
      "metadata": {
        "id": "xE5oMPv6_Xoc"
      },
      "execution_count": null,
      "outputs": []
    },
    {
      "cell_type": "code",
      "execution_count": 7,
      "metadata": {
        "id": "Yo8Gdzvf9lal"
      },
      "outputs": [],
      "source": [
        "import json\n",
        "import urllib.request as req\n",
        "import pandas as pd\n",
        "\n",
        "\n",
        "url = \"https://api.gamer.com.tw/anime/v1/danmu.php?videoSn=34643&geo=TW%2CHK\"\n",
        "f = req.urlopen(url)\n",
        "content = f.read()\n",
        "content_convert = json.loads(content)\n",
        "data = content_convert[\"data\"]\n",
        "danmu_list = data[\"danmu\"]\n",
        "\n",
        "# danmu_list(list) 轉換成 pandas自訂的表格型態 DataFrame\n",
        "table = pd.json_normalize(danmu_list)\n",
        "# DataFrame專屬功能\n",
        "# 如果要tsv, 多加個參數 sep=\"\\t\"\n",
        "# 存的時候會預設幫你多存一行(列標籤) 0 1 2...\n",
        "# 如果你不要 index=False\n",
        "table.to_csv(\"danmu.csv\", encoding=\"utf-8\")"
      ]
    }
  ]
}