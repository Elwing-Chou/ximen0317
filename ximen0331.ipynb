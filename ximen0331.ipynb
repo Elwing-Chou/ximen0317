{
  "nbformat": 4,
  "nbformat_minor": 0,
  "metadata": {
    "colab": {
      "provenance": [],
      "authorship_tag": "ABX9TyMjKocncV6jMlo+pI5il7It",
      "include_colab_link": true
    },
    "kernelspec": {
      "name": "python3",
      "display_name": "Python 3"
    },
    "language_info": {
      "name": "python"
    }
  },
  "cells": [
    {
      "cell_type": "markdown",
      "metadata": {
        "id": "view-in-github",
        "colab_type": "text"
      },
      "source": [
        "<a href=\"https://colab.research.google.com/github/Elwing-Chou/ximen0317/blob/main/ximen0331.ipynb\" target=\"_parent\"><img src=\"https://colab.research.google.com/assets/colab-badge.svg\" alt=\"Open In Colab\"/></a>"
      ]
    },
    {
      "cell_type": "code",
      "execution_count": 2,
      "metadata": {
        "colab": {
          "base_uri": "https://localhost:8080/"
        },
        "id": "m8GjuoDD4jM9",
        "outputId": "4f5ccdc9-73f5-4cc8-fe22-6a9653ec6388"
      },
      "outputs": [
        {
          "output_type": "stream",
          "name": "stdout",
          "text": [
            "[0]:protein [1]:carbon [2]:fat [s]:stop0\n",
            "請輸入克數:40\n",
            "[40, 0, 0]\n",
            "[0]:protein [1]:carbon [2]:fat [s]:stop1\n",
            "請輸入克數:100\n",
            "[40, 100, 0]\n",
            "[0]:protein [1]:carbon [2]:fat [s]:stop2\n",
            "請輸入克數:50\n",
            "[40, 100, 50]\n",
            "[0]:protein [1]:carbon [2]:fat [s]:stops\n",
            "今天熱量: 1010\n"
          ]
        }
      ],
      "source": [
        "# gram\n",
        "# p, c, f\n",
        "nutritions = [0, 0, 0]\n",
        "while True:\n",
        "    category = input(\"[0]:protein [1]:carbon [2]:fat [s]:stop\")\n",
        "    # 如果是p, c, f的話, 你還要再讓他input己克\n",
        "    input_gram = [\"0\", \"1\", \"2\"]\n",
        "    if category in input_gram:\n",
        "        cat_int = int(category)\n",
        "        gram = int(input(\"請輸入克數:\"))\n",
        "        nutritions[cat_int] = nutritions[cat_int] + gram\n",
        "        print(nutritions)\n",
        "    elif category == \"s\":\n",
        "        break\n",
        "    else:\n",
        "        print(\"輸入錯誤\")\n",
        "\n",
        "p, c, f = nutritions[0], nutritions[1], nutritions[2]\n",
        "calorie = p * 4 + c * 4 + f * 9\n",
        "print(\"今天熱量:\", calorie)"
      ]
    },
    {
      "cell_type": "code",
      "source": [
        "import random\n",
        "# 猜數字遊戲\n",
        "# 所以我會在1-100間想一個數字, 然後叫你猜\n",
        "# 假設答案是50, 你猜80, 我會跟你說太大了, 1-80在猜一次\n",
        "low, high = 0, 100\n",
        "ans = random.randint(low+1, high-1)\n",
        "while True:\n",
        "    print(\"請輸入\", low, \"-\", high, \"間的數字\")\n",
        "    guess = int(input())\n",
        "    if guess < high and guess > low:\n",
        "        if guess > ans:\n",
        "            print(\"太大了\")\n",
        "            high = guess\n",
        "        elif guess < ans:\n",
        "            print(\"太小了\")\n",
        "            low = guess\n",
        "        else:\n",
        "            print(\"答對了\")\n",
        "            break\n",
        "    else:\n",
        "        print(\"不合理!\")"
      ],
      "metadata": {
        "id": "9sHoVmVc8zJ5"
      },
      "execution_count": null,
      "outputs": []
    },
    {
      "cell_type": "code",
      "source": [
        "import random\n",
        "# 猜數字遊戲\n",
        "# 所以我會在1-100間想一個數字, 然後叫你猜\n",
        "# 假設答案是50, 你猜80, 我會跟你說太大了, 1-80在猜一次\n",
        "low, high = 0, 100\n",
        "ans = random.randint(low+1, high-1)\n",
        "while True:\n",
        "    print(\"請輸入\", low, \"-\", high, \"間的數字\")\n",
        "    guess = int(input())\n",
        "    if guess <= low or guess >= high:\n",
        "        print(\"不合理!\")\n",
        "    else:\n",
        "        if guess > ans:\n",
        "            print(\"太大了\")\n",
        "            high = guess\n",
        "        elif guess < ans:\n",
        "            print(\"太小了\")\n",
        "            low = guess\n",
        "        else:\n",
        "            print(\"答對了\")\n",
        "            break"
      ],
      "metadata": {
        "id": "QrxkWmf5FewS"
      },
      "execution_count": null,
      "outputs": []
    },
    {
      "cell_type": "code",
      "source": [
        "# 為何我喜歡這個\n",
        "# 因為我只要能夠到guess > ans的判斷, 這時候guess已經必定在範圍裡了\n",
        "import random\n",
        "# 猜數字遊戲\n",
        "# 所以我會在1-100間想一個數字, 然後叫你猜\n",
        "# 假設答案是50, 你猜80, 我會跟你說太大了, 1-80在猜一次\n",
        "low, high = 0, 100\n",
        "ans = random.randint(low+1, high-1)\n",
        "while True:\n",
        "    while True:\n",
        "        print(\"請輸入\", low, \"-\", high, \"間的數字\")\n",
        "        guess = int(input())\n",
        "        if low < guess < high:\n",
        "            break\n",
        "        else:\n",
        "            print(\"不合理\")\n",
        "\n",
        "    if guess > ans:\n",
        "        print(\"太大了\")\n",
        "        high = guess\n",
        "    elif guess < ans:\n",
        "        print(\"太小了\")\n",
        "        low = guess\n",
        "    else:\n",
        "        print(\"答對了\")\n",
        "        break"
      ],
      "metadata": {
        "id": "hS-9yMftHLVb"
      },
      "execution_count": null,
      "outputs": []
    },
    {
      "cell_type": "markdown",
      "source": [
        "WIN: -headers \"Origin: https://ani.gamer.com.tw\" -i \"\" anime.mp4\n",
        "\n",
        "MAC: -headers 'Origin: https://ani.gamer.com.tw' -i '' anime.mp4"
      ],
      "metadata": {
        "id": "qiREIf1MRV30"
      }
    }
  ]
}