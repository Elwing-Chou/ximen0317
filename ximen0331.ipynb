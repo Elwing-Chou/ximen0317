{
  "nbformat": 4,
  "nbformat_minor": 0,
  "metadata": {
    "colab": {
      "provenance": [],
      "authorship_tag": "ABX9TyPeoR4tyYevjH4gNydBaGTX",
      "include_colab_link": true
    },
    "kernelspec": {
      "name": "python3",
      "display_name": "Python 3"
    },
    "language_info": {
      "name": "python"
    }
  },
  "cells": [
    {
      "cell_type": "markdown",
      "metadata": {
        "id": "view-in-github",
        "colab_type": "text"
      },
      "source": [
        "<a href=\"https://colab.research.google.com/github/Elwing-Chou/ximen0317/blob/main/ximen0331.ipynb\" target=\"_parent\"><img src=\"https://colab.research.google.com/assets/colab-badge.svg\" alt=\"Open In Colab\"/></a>"
      ]
    },
    {
      "cell_type": "code",
      "execution_count": 2,
      "metadata": {
        "colab": {
          "base_uri": "https://localhost:8080/"
        },
        "id": "m8GjuoDD4jM9",
        "outputId": "4f5ccdc9-73f5-4cc8-fe22-6a9653ec6388"
      },
      "outputs": [
        {
          "output_type": "stream",
          "name": "stdout",
          "text": [
            "[0]:protein [1]:carbon [2]:fat [s]:stop0\n",
            "請輸入克數:40\n",
            "[40, 0, 0]\n",
            "[0]:protein [1]:carbon [2]:fat [s]:stop1\n",
            "請輸入克數:100\n",
            "[40, 100, 0]\n",
            "[0]:protein [1]:carbon [2]:fat [s]:stop2\n",
            "請輸入克數:50\n",
            "[40, 100, 50]\n",
            "[0]:protein [1]:carbon [2]:fat [s]:stops\n",
            "今天熱量: 1010\n"
          ]
        }
      ],
      "source": [
        "# gram\n",
        "# p, c, f\n",
        "nutritions = [0, 0, 0]\n",
        "while True:\n",
        "    category = input(\"[0]:protein [1]:carbon [2]:fat [s]:stop\")\n",
        "    # 如果是p, c, f的話, 你還要再讓他input己克\n",
        "    input_gram = [\"0\", \"1\", \"2\"]\n",
        "    if category in input_gram:\n",
        "        cat_int = int(category)\n",
        "        gram = int(input(\"請輸入克數:\"))\n",
        "        nutritions[cat_int] = nutritions[cat_int] + gram\n",
        "        print(nutritions)\n",
        "    elif category == \"s\":\n",
        "        break\n",
        "    else:\n",
        "        print(\"輸入錯誤\")\n",
        "\n",
        "p, c, f = nutritions[0], nutritions[1], nutritions[2]\n",
        "calorie = p * 4 + c * 4 + f * 9\n",
        "print(\"今天熱量:\", calorie)"
      ]
    }
  ]
}