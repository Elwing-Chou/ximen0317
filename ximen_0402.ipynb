{
  "nbformat": 4,
  "nbformat_minor": 0,
  "metadata": {
    "colab": {
      "provenance": [],
      "authorship_tag": "ABX9TyMfwVyblLGp0e1cUOwJ2kEW",
      "include_colab_link": true
    },
    "kernelspec": {
      "name": "python3",
      "display_name": "Python 3"
    },
    "language_info": {
      "name": "python"
    }
  },
  "cells": [
    {
      "cell_type": "markdown",
      "metadata": {
        "id": "view-in-github",
        "colab_type": "text"
      },
      "source": [
        "<a href=\"https://colab.research.google.com/github/Elwing-Chou/ximen0317/blob/main/ximen_0402.ipynb\" target=\"_parent\"><img src=\"https://colab.research.google.com/assets/colab-badge.svg\" alt=\"Open In Colab\"/></a>"
      ]
    },
    {
      "cell_type": "code",
      "execution_count": 5,
      "metadata": {
        "id": "c9acxGZfMqbd"
      },
      "outputs": [],
      "source": [
        "f = open(\"a.txt\", \"w\", encoding=\"utf-8\")\n",
        "# 寫入\n",
        "# 以前: write(f, \"abcde\")\n",
        "# 專屬(型態)功能: f.write(\"abcde\")\n",
        "# 打不出來字: \\n \\t\n",
        "f.write(\"abcde\\n\")\n",
        "f.write(\"fghij\")\n",
        "# 以前: close(f)\n",
        "# 專屬功能: f.close()\n",
        "f.close()"
      ]
    },
    {
      "cell_type": "code",
      "source": [
        "f = open(\"a.txt\", \"r\", encoding=\"utf-8\")\n",
        "# 以前: content = read(f)\n",
        "content = f.read()\n",
        "print(content)\n",
        "f.close()"
      ],
      "metadata": {
        "colab": {
          "base_uri": "https://localhost:8080/"
        },
        "id": "jy6jtRGOOKlu",
        "outputId": "cefb68aa-2054-4da3-ed07-136ca156b6c1"
      },
      "execution_count": 6,
      "outputs": [
        {
          "output_type": "stream",
          "name": "stdout",
          "text": [
            "abcde\n",
            "fghij\n"
          ]
        }
      ]
    },
    {
      "cell_type": "markdown",
      "source": [
        "\n",
        "\n",
        "```\n",
        "LIST+DICT: JSON格式\n",
        "```\n",
        "\n"
      ],
      "metadata": {
        "id": "76fQVSzmqu5i"
      }
    },
    {
      "cell_type": "code",
      "source": [
        "import json\n",
        "import urllib.request as req\n",
        "\n",
        "url = \"https://api.gamer.com.tw/anime/v1/danmu.php?videoSn=34643&geo=TW%2CHK\"\n",
        "f = req.urlopen(url)\n",
        "content = f.read()\n",
        "# bytes型態: 更原始的字串 0101構成的東西\n",
        "# print(type(content))\n",
        "# print(content)\n",
        "content_convert = json.loads(content)\n",
        "print(type(content_convert))\n"
      ],
      "metadata": {
        "colab": {
          "base_uri": "https://localhost:8080/"
        },
        "id": "ZIISIom5QzBu",
        "outputId": "3d6015ac-b1b7-4f6c-9fca-f250baff5591"
      },
      "execution_count": 24,
      "outputs": [
        {
          "output_type": "stream",
          "name": "stdout",
          "text": [
            "<class 'dict'>\n"
          ]
        }
      ]
    },
    {
      "cell_type": "code",
      "source": [
        "print(type(\"abcde\"))"
      ],
      "metadata": {
        "colab": {
          "base_uri": "https://localhost:8080/"
        },
        "id": "zUcsAPlqST8t",
        "outputId": "e981a08d-ac3d-4b8d-ad9f-093e506f4c94"
      },
      "execution_count": 9,
      "outputs": [
        {
          "output_type": "stream",
          "name": "stdout",
          "text": [
            "<class 'str'>\n"
          ]
        }
      ]
    },
    {
      "cell_type": "markdown",
      "source": [
        "\n",
        "\n",
        "```\n",
        "list操作\n",
        "```\n",
        "\n"
      ],
      "metadata": {
        "id": "U_PRif_3Uilz"
      }
    },
    {
      "cell_type": "code",
      "source": [
        "scores = [20, 60, 30, 40]\n",
        "print(scores[0])\n",
        "\n",
        "print(sum(scores), max(scores), min(scores), len(scores))\n",
        "\n",
        "# print(scores[len(scores)-1])\n",
        "# 除了 0 1 2 3 這組key\n",
        "# python還幫你創造了第二組key\n",
        "# -4 -3 -2 -1\n",
        "print(scores[-1])\n",
        "\n",
        "scores[-2] = scores[-2] + 19\n",
        "print(scores)"
      ],
      "metadata": {
        "colab": {
          "base_uri": "https://localhost:8080/"
        },
        "id": "tfLGJCKRUhzu",
        "outputId": "386cbb7c-c867-47b3-ae79-29f91f992e22"
      },
      "execution_count": 14,
      "outputs": [
        {
          "output_type": "stream",
          "name": "stdout",
          "text": [
            "20\n",
            "150 60 20 4\n",
            "40\n",
            "[20, 60, 49, 40]\n"
          ]
        }
      ]
    },
    {
      "cell_type": "code",
      "source": [
        "scores = [80, 60, 20, 90, 30]\n",
        "\n",
        "count = 0\n",
        "i = 0\n",
        "while i < len(scores):\n",
        "    # !! 假設今天是一個沒有順序的群, 那這個語法就失效了\n",
        "    # 因為[0] [1] [2] 這種東西是要有順序才會有\n",
        "    c = scores[i]\n",
        "    if c >= 60:\n",
        "        count = count + 1\n",
        "    i = i + 1\n",
        "print(count)"
      ],
      "metadata": {
        "colab": {
          "base_uri": "https://localhost:8080/"
        },
        "id": "IwBP608MXfMr",
        "outputId": "3133a13e-dd92-4627-b1e1-1f94e5e79b44"
      },
      "execution_count": 16,
      "outputs": [
        {
          "output_type": "stream",
          "name": "stdout",
          "text": [
            "3\n"
          ]
        }
      ]
    },
    {
      "cell_type": "code",
      "source": [
        "# for 名稱 in 群(list/str): 走過\n",
        "count = 0\n",
        "for c in scores:\n",
        "    if c >= 60:\n",
        "        count = count + 1\n",
        "print(count)"
      ],
      "metadata": {
        "colab": {
          "base_uri": "https://localhost:8080/"
        },
        "id": "tLXw9M9tYzqe",
        "outputId": "7fadac8b-2755-4f49-9c26-17a38cc49115"
      },
      "execution_count": 17,
      "outputs": [
        {
          "output_type": "stream",
          "name": "stdout",
          "text": [
            "3\n"
          ]
        }
      ]
    },
    {
      "cell_type": "code",
      "source": [
        "total = 0\n",
        "i = 0\n",
        "while i < 10:\n",
        "    total = total + (i + 1)\n",
        "    print(total)\n",
        "    i = i + 1"
      ],
      "metadata": {
        "id": "JehuLGKYfqc4"
      },
      "execution_count": null,
      "outputs": []
    },
    {
      "cell_type": "code",
      "source": [
        "# range(5): [0, 1, 2, 3, 4]\n",
        "# range(3, 5): [3, 4]\n",
        "total = 0\n",
        "for i in range(10):\n",
        "    total = total + (i + 1)\n",
        "    print(total)"
      ],
      "metadata": {
        "colab": {
          "base_uri": "https://localhost:8080/"
        },
        "id": "DmZg06pMgJLe",
        "outputId": "6778aab0-801d-4aea-8a02-cdc6e2f0c911"
      },
      "execution_count": 19,
      "outputs": [
        {
          "output_type": "stream",
          "name": "stdout",
          "text": [
            "1\n",
            "3\n",
            "6\n",
            "10\n",
            "15\n",
            "21\n",
            "28\n",
            "36\n",
            "45\n",
            "55\n"
          ]
        }
      ]
    },
    {
      "cell_type": "markdown",
      "source": [
        "\n",
        "\n",
        "```\n",
        "迴圈SOP!!!\n",
        "\n",
        "1. 固定次數: for i in range(次) i=0...次-1\n",
        "2. 走過一群: for 名稱 in 群(str/list)\n",
        "3. 其他條件: while True+break\n",
        "```\n",
        "\n"
      ],
      "metadata": {
        "id": "JxiVrSnJiBim"
      }
    },
    {
      "cell_type": "code",
      "source": [
        "# 字典: 聚集多個小單位, 變成一個複雜的東西\n",
        "# 一群學生: [學生1, 學生2]\n",
        "# 一個學生: 會使用\"字典\"(dict)型態\n",
        "# {key:value}\n",
        "# key也是一個值, 具有型態(int/str)\n",
        "# !!! key是你自訂的, 所以字典是沒有所謂順序\n",
        "student = {\n",
        "    \"height\":175,\n",
        "    \"姓名\":\"Elwing\"\n",
        "}\n",
        "print(student)\n",
        "# 查詢\n",
        "print(student[\"姓名\"])\n",
        "\n",
        "student[\"weight\"] = 73\n",
        "print(student)\n",
        "\n",
        "student[\"height\"] = student[\"height\"] + 5\n",
        "print(student)"
      ],
      "metadata": {
        "colab": {
          "base_uri": "https://localhost:8080/"
        },
        "id": "zoEVK-hDl490",
        "outputId": "24d700eb-9070-4c74-ec68-2ceb5a4721ca"
      },
      "execution_count": 23,
      "outputs": [
        {
          "output_type": "stream",
          "name": "stdout",
          "text": [
            "{'height': 175, '姓名': 'Elwing'}\n",
            "Elwing\n",
            "{'height': 175, '姓名': 'Elwing', 'weight': 73}\n",
            "{'height': 180, '姓名': 'Elwing', 'weight': 73}\n"
          ]
        }
      ]
    }
  ]
}