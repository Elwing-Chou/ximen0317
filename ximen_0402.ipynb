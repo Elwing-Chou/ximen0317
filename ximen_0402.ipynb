{
  "nbformat": 4,
  "nbformat_minor": 0,
  "metadata": {
    "colab": {
      "provenance": [],
      "authorship_tag": "ABX9TyMAUUubnA2YoAC1jsoNnvLm",
      "include_colab_link": true
    },
    "kernelspec": {
      "name": "python3",
      "display_name": "Python 3"
    },
    "language_info": {
      "name": "python"
    }
  },
  "cells": [
    {
      "cell_type": "markdown",
      "metadata": {
        "id": "view-in-github",
        "colab_type": "text"
      },
      "source": [
        "<a href=\"https://colab.research.google.com/github/Elwing-Chou/ximen0317/blob/main/ximen_0402.ipynb\" target=\"_parent\"><img src=\"https://colab.research.google.com/assets/colab-badge.svg\" alt=\"Open In Colab\"/></a>"
      ]
    },
    {
      "cell_type": "code",
      "execution_count": 5,
      "metadata": {
        "id": "c9acxGZfMqbd"
      },
      "outputs": [],
      "source": [
        "f = open(\"a.txt\", \"w\", encoding=\"utf-8\")\n",
        "# 寫入\n",
        "# 以前: write(f, \"abcde\")\n",
        "# 專屬(型態)功能: f.write(\"abcde\")\n",
        "# 打不出來字: \\n \\t\n",
        "f.write(\"abcde\\n\")\n",
        "f.write(\"fghij\")\n",
        "# 以前: close(f)\n",
        "# 專屬功能: f.close()\n",
        "f.close()"
      ]
    },
    {
      "cell_type": "code",
      "source": [
        "f = open(\"a.txt\", \"r\", encoding=\"utf-8\")\n",
        "# 以前: content = read(f)\n",
        "content = f.read()\n",
        "print(content)\n",
        "f.close()"
      ],
      "metadata": {
        "colab": {
          "base_uri": "https://localhost:8080/"
        },
        "id": "jy6jtRGOOKlu",
        "outputId": "cefb68aa-2054-4da3-ed07-136ca156b6c1"
      },
      "execution_count": 6,
      "outputs": [
        {
          "output_type": "stream",
          "name": "stdout",
          "text": [
            "abcde\n",
            "fghij\n"
          ]
        }
      ]
    },
    {
      "cell_type": "code",
      "source": [
        "import urllib.request as req\n",
        "\n",
        "url = \"https://api.gamer.com.tw/anime/v1/danmu.php?videoSn=34643&geo=TW%2CHK\"\n",
        "f = req.urlopen(url)\n",
        "content = f.read()\n",
        "# bytes型態: 更原始的字串 0101構成的東西\n",
        "print(type(content))\n",
        "print(content)"
      ],
      "metadata": {
        "colab": {
          "base_uri": "https://localhost:8080/"
        },
        "id": "ZIISIom5QzBu",
        "outputId": "c5dca94b-f86f-49a4-ec58-e845f89c8140"
      },
      "execution_count": 8,
      "outputs": [
        {
          "output_type": "stream",
          "name": "stdout",
          "text": [
            "<class 'bytes'>\n",
            "b'{\"data\":{\"danmu\":[{\"text\":\"\\\\u525b\\\\u8907\\\\u7fd2\\\\u5b8c\\\\u4e0a\\\\u4e00\\\\u7bc7\\\\u7ae0\\\\u7684\\\\u22ef\\\\u63a5\\\\u8457\\\\u770b\\\\u56c9\\\\ud83d\\\\ude0e\",\"color\":\"#FFFFFF\",\"size\":1,\"position\":0,\"time\":60,\"sn\":35037815,\"userid\":\"Vigar09995\"},{\"text\":\"\\\\u611f\\\\u8b1d\\\\u5df4\\\\u54c8\\\\u3001\\\\u611f\\\\u8b1d\\\\u6728\\\\u68c9\\\\u82b1\\\\uff01\",\"color\":\"#FFFFFF\",\"size\":1,\"position\":0,\"time\":78,\"sn\":35028032,\"userid\":\"TKS4an1m\"},{\"text\":\"\\\\u881f\\\\u7b46\",\"color\":\"#FFFFFF\",\"size\":1,\"position\":0,\"time\":80,\"sn\":38578674,\"userid\":\"m8wy5r2dn9\"},{\"text\":\"\\\\u4f86\\\\u4e86!\",\"color\":\"#FFFFFF\",\"size\":1,\"position\":0,\"time\":169,\"sn\":35018947,\"userid\":\"chu020412\"},{\"text\":\"\\\\u7c3d\",\"color\":\"#FFFFFF\",\"size\":1,\"position\":0,\"time\":176,\"sn\":35053584,\"userid\":\"love3769846\"},{\"text\":\"\\\\u7c3d\\\\n\\\\u7c3d\",\"color\":\"#FFFFFF\",\"size\":2,\"position\":0,\"time\":207,\"sn\":37597391,\"userid\":\"cometed\"},{\"text\":\"2024\\\\/07\\\\/14\",\"color\":\"#FFFFFF\",\"size\":1,\"position\":0,\"time\":223,\"sn\":40541083,\"userid\":\"howspecial08\"},{\"text\":\"\\\\u55e8\",\"color\":\"#FFFFFF\",\"size\":1,\"position\":0,\"time\":225,\"sn\":44205930,\"userid\":\"angel99104qz\"},{\"text\":\"XDDDD\",\"color\":\"#FFFFFF\",\"size\":1,\"position\":0,\"time\":1550,\"sn\":35018983,\"userid\":\"chu020412\"},{\"text\":\"\\\\u597d\\\\u53ef\\\\u611b\\\\u3109\\\\u5c0d\\\\u8a71\",\"color\":\"#FFFFFF\",\"size\":1,\"position\":0,\"time\":1576,\"sn\":35267047,\"userid\":\"crazy125160\"},{\"text\":\"\\\\u8c6c\\\\u8c6c\",\"color\":\"#FFFFFF\",\"size\":1,\"position\":0,\"time\":1883,\"sn\":35053650,\"userid\":\"love3769846\"},{\"text\":\"\\\\u97f3\\\\u5f88\\\\u50cf\\\\u4e86\",\"color\":\"#FFFFFF\",\"size\":1,\"position\":0,\"time\":1978,\"sn\":35053655,\"userid\":\"love3769846\"},{\"text\":\"\\\\u6240\\\\u4ee5\\\\u914d\\\\u97f3\\\\u54e1\\\\u6c92\\\\u8fa6\\\\u6cd5\\\\u80cc\\\\u53f0\\\\u8a5e\\\\u662f\\\\u771f\\\\u7684\",\"color\":\"#FFFFFF\",\"size\":1,\"position\":0,\"time\":2002,\"sn\":40513409,\"userid\":\"allen5144\"},{\"text\":\"\\\\u54c8\\\\u54c8\",\"color\":\"#FFFFFF\",\"size\":1,\"position\":0,\"time\":3977,\"sn\":35053690,\"userid\":\"love3769846\"},{\"text\":\"XDDD\",\"color\":\"#FFFFFF\",\"size\":1,\"position\":0,\"time\":4072,\"sn\":35019033,\"userid\":\"chu020412\"},{\"text\":\"\\\\u771f\\\\u7684\\\\u597d\\\\u8f9b\\\\u82e6XDDDu\",\"color\":\"#FFFFFF\",\"size\":1,\"position\":0,\"time\":4221,\"sn\":35019036,\"userid\":\"chu020412\"},{\"text\":\"\\\\u7e3d\\\\u611f\\\\u89ba\\\\u70ad\\\\u6cbb\\\\u90ce\\\\u8072\\\\u512a\\\\u9577\\\\u5f97\\\\u50cf\\\\u6797\\\\u4fca\\\\u5091\",\"color\":\"#FFFFFF\",\"size\":1,\"position\":0,\"time\":4277,\"sn\":40457504,\"userid\":\"tshi606eggy\"},{\"text\":\"\\\\u91ac\\\\u6cb9\\\\u7cf0\\\\u5b50\\\\u6389\\\\u5730\\\\u4e0a\\\\u4e86\",\"color\":\"#FFFFFF\",\"size\":1,\"position\":0,\"time\":4604,\"sn\":35019069,\"userid\":\"chu020412\"},{\"text\":\"\\\\u653e\\\\u4e86\\\\u4e09\\\\u500b\\\\u6708\\\\u7684\\\\u5718\\\\u5b50\\\\ud83c\\\\udf61\",\"color\":\"#FFFFFF\",\"size\":1,\"position\":0,\"time\":4630,\"sn\":35038792,\"userid\":\"domotomaki\"},{\"text\":\"\\\\u4e0a\\\\u56de\\\\u7834\\\\u9580\\\\uff0c\\\\u9019\\\\u56de\\\\u7834\\\\u7246\\\\ud83e\\\\udd23\",\"color\":\"#FFFFFF\",\"size\":1,\"position\":0,\"time\":6090,\"sn\":35038019,\"userid\":\"Vigar09995\"},{\"text\":\"\\\\u8d85\\\\u597d\\\\u7b11\",\"color\":\"#FFFFFF\",\"size\":1,\"position\":0,\"time\":6224,\"sn\":40457566,\"userid\":\"tshi606eggy\"},{\"text\":\"\\\\u597d\\\\u75dbXDDDDD\",\"color\":\"#FFFFFF\",\"size\":1,\"position\":0,\"time\":6237,\"sn\":35019085,\"userid\":\"chu020412\"},{\"text\":\"\\\\u597d\\\\u771f\\\\u5be6\\\\u7684\\\\u7b11\\\\u5834wwwwwww\",\"color\":\"#FFFFFF\",\"size\":1,\"position\":0,\"time\":6250,\"sn\":39902321,\"userid\":\"huasi\"},{\"text\":\"\\\\u597d\\\\u53ef\\\\u611bXDDDD\",\"color\":\"#FFFFFF\",\"size\":1,\"position\":0,\"time\":6540,\"sn\":35077416,\"userid\":\"chu020412\"},{\"text\":\"\\\\u597d\\\\u53ef\\\\u611b\",\"color\":\"#FFFFFF\",\"size\":1,\"position\":0,\"time\":8040,\"sn\":40282827,\"userid\":\"qqyy00\"},{\"text\":\"\\\\u662f\\\\u8981\\\\u8df3\\\\u591a\\\\u4e45\\\\u54c8\\\\u54c8\\\\u54c8\",\"color\":\"#FFFFFF\",\"size\":1,\"position\":0,\"time\":8317,\"sn\":35044377,\"userid\":\"r124055351\"},{\"text\":\"\\\\u54c8\\\\u54c8\",\"color\":\"#FFFFFF\",\"size\":1,\"position\":0,\"time\":8329,\"sn\":35053784,\"userid\":\"love3769846\"},{\"text\":\"\\\\u597d\\\\u6703\\\\u8df3wwwwwwwwwwww\",\"color\":\"#FFFFFF\",\"size\":1,\"position\":0,\"time\":8448,\"sn\":35756489,\"userid\":\"d10722d2\"},{\"text\":\"\\\\u8df3\\\\u8df3\\\\u864e\\\\u62ef\\\\u6551\\\\u4e16\\\\u754c\",\"color\":\"#FFFFFF\",\"size\":1,\"position\":0,\"time\":8479,\"sn\":35077477,\"userid\":\"chu020412\"},{\"text\":\"\\\\u525b\\\\u525b\\\\u5fd9\\\\u628a\\\\u5f4c\\\\u8c46\\\\u5b50\\\\u88dd\\\\u7bb1\\\\u55ce\\\\uff1f\\\\ud83e\\\\udd23\",\"color\":\"#FFFFFF\",\"size\":1,\"position\":0,\"time\":8525,\"sn\":35038124,\"userid\":\"Vigar09995\"},{\"text\":\"XDDDDD\",\"color\":\"#FFFFFF\",\"size\":1,\"position\":0,\"time\":8783,\"sn\":35077508,\"userid\":\"chu020412\"},{\"text\":\"\\\\u7b11\\\\u5230\\\\u809a\\\\u5b50\\\\u75db\",\"color\":\"#FFFFFF\",\"size\":1,\"position\":1,\"time\":9193,\"sn\":40456189,\"userid\":\"miq117\"},{\"text\":\"\\\\u5584\\\\u9038\\\\u4f60\\\\u51fa\\\\u4efb\\\\u52d9\\\\u51fa\\\\u4ec0\\\\u9ebc\\\\u7684\\\\u5566\\\\ud83d\\\\ude02\",\"color\":\"#FFFFFF\",\"size\":1,\"position\":0,\"time\":9491,\"sn\":40457684,\"userid\":\"tshi606eggy\"},{\"text\":\"\\\\u8c6c\\\\u8c6c\\\\u5403\\\\u6771\\\\u897f\\\\u771f\\\\u53ef\\\\u611b\",\"color\":\"#FFFFFF\",\"size\":1,\"position\":0,\"time\":10380,\"sn\":35053834,\"userid\":\"love3769846\"},{\"text\":\"\\\\u660e\\\\u91cc\\\\u59b9\\\\u59b9\\\\u597d\\\\u53ef\\\\u611b\\\\u2764\",\"color\":\"#FF0026\",\"size\":1,\"position\":1,\"time\":10447,\"sn\":39135256,\"userid\":\"Pocahontas\"},{\"text\":\"\\\\u6211\\\\u4ee5\\\\u70ba\\\\u5f9e\\\\u7bb1\\\\u5b50\\\\u51fa\\\\u4f86\",\"color\":\"#FFFFFF\",\"size\":1,\"position\":0,\"time\":10480,\"sn\":35053839,\"userid\":\"love3769846\"},{\"text\":\"\\\\u597d\\\\u53ef\\\\u611b\\\\u55da\\\\u55da\\\\u55da\",\"color\":\"#FFFFFF\",\"size\":1,\"position\":0,\"time\":10549,\"sn\":35077607,\"userid\":\"chu020412\"},{\"text\":\"\\\\u600e\\\\u9ebc\\\\u6709\\\\u500b\\\\u85aa\\\\u6c34\\\\u5c0f\\\\u5077www\",\"color\":\"#FFFFFF\",\"size\":1,\"position\":0,\"time\":12709,\"sn\":35027832,\"userid\":\"im1412\"},{\"text\":\"\\\\u7b11\\\\u6b7b\\\\ud83d\\\\ude06\",\"color\":\"#FFFFFF\",\"size\":1,\"position\":0,\"time\":12775,\"sn\":35032555,\"userid\":\"BHSN00002wxq\"},{\"text\":\"\\\\u55da\\\\u963f\",\"color\":\"#FFFFFF\",\"size\":1,\"position\":0,\"time\":13979,\"sn\":35077763,\"userid\":\"chu020412\"},{\"text\":\"\\\\u5c45\\\\u7136\\\\u6709\\\\u8acbLiSA!!\\\\u8d85\\\\u559c\\\\u6b61\\\\u9019\\\\u9996\",\"color\":\"#FFFFFF\",\"size\":1,\"position\":0,\"time\":14396,\"sn\":35858821,\"userid\":\"d10722d2\"},{\"text\":\"\\\\u8d85\\\\u559c\\\\u6b61\\\\u9019\\\\u53e5!!\",\"color\":\"#FFFFFF\",\"size\":1,\"position\":0,\"time\":14712,\"sn\":40574801,\"userid\":\"WJ816\"},{\"text\":\"\\\\u6295\\\\u5f71\\\\u5e55\\\\u7684\\\\u6548\\\\u679c\\\\u597d\\\\u68d2\\\\u554a\",\"color\":\"#FFFFFF\",\"size\":1,\"position\":0,\"time\":15005,\"sn\":40574823,\"userid\":\"WJ816\"},{\"text\":\"\\\\u9019\\\\u9996\\\\u8a5e\\\\u66f2\\\\u90fd\\\\u8d85\\\\u68d2\\\\u7684QQ \\\\u68b6\\\\u6d66\\\\u548cLisa\\\\u7684\\\\u7d44\\\\u5408\\\\u8d85\\\\u8b9a\",\"color\":\"#FFFFFF\",\"size\":1,\"position\":0,\"time\":15530,\"sn\":40574838,\"userid\":\"WJ816\"},{\"text\":\"\\\\u9019\\\\u908a\\\\u50cf\\\\u662f\\\\u6f14\\\\u6b4c\\\\u7684\\\\u5408\\\\u97f3\\\\u8d85\\\\u68d2~~ \\\\u8ffd\\\\u9010\\\\u8457\\\\u592a\\\\u967dQQ\",\"color\":\"#FFFFFF\",\"size\":1,\"position\":0,\"time\":16150,\"sn\":40574877,\"userid\":\"WJ816\"},{\"text\":\"\\\\u5c45\\\\u7136\\\\u6709\\\\u8acb\\\\u65e5\\\\u91ce\\\\u8070\\\\u4f86\",\"color\":\"#FF0026\",\"size\":1,\"position\":1,\"time\":16729,\"sn\":39135340,\"userid\":\"Pocahontas\"},{\"text\":\"\\\\u660e\\\\u91cc\\\\u59b9\\\\u59b9\\\\u751f\\\\u6c23\\\\u6c23\\\\ud83e\\\\udd23\",\"color\":\"#FF02D3\",\"size\":1,\"position\":0,\"time\":17051,\"sn\":39135351,\"userid\":\"Pocahontas\"},{\"text\":\"\\\\u5927\\\\u54e5\\\\u7684\\\\u8868\\\\u60c5\\\\u597d\\\\u597d\\\\u7b11\",\"color\":\"#FFFFFF\",\"size\":1,\"position\":0,\"time\":17358,\"sn\":35490719,\"userid\":\"love3769846\"},{\"text\":\"\\\\u773c\\\\u795eXDDD\",\"color\":\"#FFFFFF\",\"size\":1,\"position\":0,\"time\":17848,\"sn\":35077921,\"userid\":\"chu020412\"},{\"text\":\"\\\\u4e0b\\\\u91ce\\\\u7d18\\\\u592a\\\\u53ef\\\\u611b\\\\u4e86\",\"color\":\"#FFFFFF\",\"size\":1,\"position\":0,\"time\":18503,\"sn\":35228563,\"userid\":\"lehua6661\"},{\"text\":\"\\\\u5f48\\\\u5e55\\\\u5f48\\\\u5e55\\\\u5f48\\\\u5e55\\\\ud83d\\\\ude31\",\"color\":\"#FFFFFF\",\"size\":1,\"position\":0,\"time\":19474,\"sn\":38376518,\"userid\":\"alex61152000\"},{\"text\":\"\\\\u597d\\\\u8b9a\\\\u311f\\\\u9084\\\\u6709\\\\u706b\",\"color\":\"#FFFFFF\",\"size\":1,\"position\":0,\"time\":19824,\"sn\":35078007,\"userid\":\"chu020412\"},{\"text\":\"\\\\u662f\\\\u5594\",\"color\":\"#FFFFFF\",\"size\":1,\"position\":0,\"time\":20540,\"sn\":35032650,\"userid\":\"BHSN00002wxq\"},{\"text\":\"\\\\u516d\\\\u592aTTTT\",\"color\":\"#FFFFFF\",\"size\":1,\"position\":0,\"time\":21144,\"sn\":35078058,\"userid\":\"chu020412\"},{\"text\":\"\\\\u5e79\\\\u6211\\\\u770b\\\\u5230\\\\u5feb\\\\u54ed\\\\u51fa\\\\u4f86\",\"color\":\"#FFFFFF\",\"size\":1,\"position\":0,\"time\":21295,\"sn\":40494929,\"userid\":\"tshi606eggy\"},{\"text\":\"\\\\u9019\\\\u22ef\\\\u5f4c\\\\u8c46\\\\u5b50\\\\u662f\\\\u63db\\\\u4eba\\\\u6f14\\\\u55ce\\\\uff1f\\\\u9b3c\\\\u982d\\\\uff1f\",\"color\":\"#FFFFFF\",\"size\":1,\"position\":0,\"time\":21800,\"sn\":35039365,\"userid\":\"Vigar09995\"},{\"text\":\"\\\\u9019\\\\u53e5\\\\u8d85\\\\u50ac\\\\u6dda\",\"color\":\"#FFFFFF\",\"size\":1,\"position\":0,\"time\":21833,\"sn\":35267661,\"userid\":\"crazy125160\"},{\"text\":\"\\\\u82b1\\\\u6c5f\\\\u4e5f\\\\u592a\\\\u5f37\\\\u4e86\\\\u5427\\\\u55da\\\\u55da\\\\u55da\",\"color\":\"#FFFFFF\",\"size\":1,\"position\":0,\"time\":21953,\"sn\":42410965,\"userid\":\"a446693\"},{\"text\":\"\\\\u5149\\\\u807d\\\\u4ed6\\\\u7684\\\\u8072\\\\u97f3\\\\u5c31\\\\u60f3\\\\u6d41\\\\u6dda\",\"color\":\"#FFFFFF\",\"size\":1,\"position\":0,\"time\":22047,\"sn\":42410968,\"userid\":\"a446693\"},{\"text\":\"\\\\u54ed\\\\u721b...\",\"color\":\"#FFFFFF\",\"size\":1,\"position\":0,\"time\":22109,\"sn\":35078086,\"userid\":\"chu020412\"},{\"text\":\"\\\\ud83e\\\\udd7a\",\"color\":\"#FFFFFF\",\"size\":1,\"position\":0,\"time\":22278,\"sn\":38376545,\"userid\":\"alex61152000\"},{\"text\":\"\\\\u5200\\\\u780d\\\\u4e0b\\\\u53bb,\\\\u662f\\\\u7acb\\\\u9ad4\\\\u97f3\\\\u96d9\\\\u8072\\\\u9053\",\"color\":\"#FFFFFF\",\"size\":1,\"position\":0,\"time\":23985,\"sn\":38000733,\"userid\":\"Ninja007\"},{\"text\":\"\\\\u660e\\\\u77e5\\\\u5979\\\\u5f88\\\\u8a8d\\\\u771f\\\\u5728\\\\u914d\\\\u97f3\\\\uff0c\\\\u4f46\\\\u5c31\\\\u662f\\\\u5fcd\\\\u4e0d\\\\u4f4f\\\\u7b11\\\\u51fa\\\\u4f86w\",\"color\":\"#FFFFFF\",\"size\":1,\"position\":0,\"time\":25287,\"sn\":40335107,\"userid\":\"Shen2481109\"},{\"text\":\"\\\\u5f4c\\\\u8c46\\\\u5b50\\\\u914d\\\\u97f3\\\\u54e1\\\\u8072\\\\u97f3\\\\u597d\\\\u53ef\\\\u611b\\\\u4f46\\\\u672c\\\\u4eba\\\\u597d\\\\u51b7\\\\u975c\\\\u5594XDDD\",\"color\":\"#FFFFFF\",\"size\":1,\"position\":0,\"time\":25322,\"sn\":42411003,\"userid\":\"a446693\"},{\"text\":\"+1...\",\"color\":\"#FFFFFF\",\"size\":1,\"position\":0,\"time\":25355,\"sn\":40381635,\"userid\":\"jerry4107\"},{\"text\":\"\\\\u597d\\\\u9055\\\\u548cXDDDD\",\"color\":\"#FFFFFF\",\"size\":1,\"position\":0,\"time\":25447,\"sn\":42411004,\"userid\":\"a446693\"},{\"text\":\"\\\\u5927\\\\u54e5!\",\"color\":\"#FFFFFF\",\"size\":1,\"position\":0,\"time\":25916,\"sn\":38386335,\"userid\":\"alex61152000\"},{\"text\":\"\\\\u5e25\\\\uff01\",\"color\":\"#FFFFFF\",\"size\":1,\"position\":0,\"time\":26140,\"sn\":35039228,\"userid\":\"rita19880908\"},{\"text\":\"\\\\u5927\\\\u54e5\\\\u592a\\\\u5e25\\\\u4e86\\\\u5566\\\\uff01\",\"color\":\"#FFFFFF\",\"size\":1,\"position\":0,\"time\":26233,\"sn\":42411012,\"userid\":\"a446693\"},{\"text\":\"\\\\u5e03\\\\u666f\\\\u597d\\\\u7528\\\\u5fc3...\",\"color\":\"#FFFFFF\",\"size\":1,\"position\":0,\"time\":27382,\"sn\":35078325,\"userid\":\"chu020412\"},{\"text\":\"\\\\u4ed4\\\\u7d30\\\\u5288\\\\u958b\\\\u662f\\\\u4ec0\\\\u9ebc\\\\u597d\\\\u597d\\\\u7b11\",\"color\":\"#FFFFFF\",\"size\":1,\"position\":0,\"time\":27484,\"sn\":40509036,\"userid\":\"tshi606eggy\"},{\"text\":\"LiSA!!!!!!!!!!!!!!!!!!!!!!\",\"color\":\"#FFFFFF\",\"size\":1,\"position\":0,\"time\":28181,\"sn\":35570744,\"userid\":\"everybodygo\"},{\"text\":\"\\\\u8d85\\\\u597d\\\\u807d\\\\ud83e\\\\udd79\\\\ud83e\\\\udd79\\\\ud83e\\\\udd79\",\"color\":\"#FFFFFF\",\"size\":1,\"position\":0,\"time\":29235,\"sn\":39910147,\"userid\":\"ILovebangtan\"},{\"text\":\"\\\\u5e0c\\\\u671bLiSA\\\\u53ef\\\\u4ee5\\\\u7e7c\\\\u7e8c\\\\u70ba\\\\u9b3c\\\\u6ec5\\\\u5531OPED\",\"color\":\"#FFFFFF\",\"size\":1,\"position\":0,\"time\":29267,\"sn\":35993605,\"userid\":\"d10722d2\"},{\"text\":\"\\\\u592a\\\\u597d\\\\u807d\\\\u4e86~~~\",\"color\":\"#FFFFFF\",\"size\":1,\"position\":0,\"time\":29710,\"sn\":35570716,\"userid\":\"everybodygo\"},{\"text\":\"\\\\u525b\\\\u597d\\\\u8fb2\\\\u66c67\\\\u6708\\\\u770b\\\\uff0c\\\\u5927\\\\u54e5\\\\u56de\\\\u4f86\\\\u73a9\\\\u525b\\\\u597dXD\",\"color\":\"#FFFFFF\",\"size\":1,\"position\":0,\"time\":32027,\"sn\":35109211,\"userid\":\"blood1408\"},{\"text\":\"XDDDD\",\"color\":\"#FFFFFF\",\"size\":1,\"position\":0,\"time\":33281,\"sn\":35078535,\"userid\":\"chu020412\"},{\"text\":\"\\\\u6c34\\\\u58fa\\\\u597d\\\\u53ef\\\\u611b\",\"color\":\"#FFFFFF\",\"size\":1,\"position\":0,\"time\":33503,\"sn\":35078546,\"userid\":\"chu020412\"},{\"text\":\"\\\\u53ef\\\\u60dc\\\\u6c92\\\\u6709\\\\u7b2c\\\\u4e00\\\\u5929\\\\u7684\\\\u5f71\\\\u7247\",\"color\":\"#FF02D3\",\"size\":1,\"position\":0,\"time\":33713,\"sn\":39135724,\"userid\":\"Pocahontas\"},{\"text\":\"\\\\u611f\\\\u89ba\\\\u5f88\\\\u5c2c\",\"color\":\"#FFFFFF\",\"size\":1,\"position\":0,\"time\":34410,\"sn\":40002788,\"userid\":\"cyhs1100274\"},{\"text\":\"\\\\u6c23\\\\u6c1b\\\\u597d\\\\u597d\",\"color\":\"#FFFFFF\",\"size\":1,\"position\":0,\"time\":36930,\"sn\":35078669,\"userid\":\"chu020412\"},{\"text\":\"\\\\uff02\",\"color\":\"#FFFFFF\",\"size\":1,\"position\":0,\"time\":37539,\"sn\":40297099,\"userid\":\"KiMo508\"},{\"text\":\"\\\\u611f\\\\u8b1d\\\\u914d\\\\u4fe1\\\\u3001\\\\u611f\\\\u8b1dDVD\\\\uff0c\\\\u5168\\\\u4e16\\\\u754c\\\\u90fd\\\\u770b\\\\u5230\\\\u7684\\\\u5594\\\\uff01\",\"color\":\"#FFFFFF\",\"size\":1,\"position\":0,\"time\":38057,\"sn\":35028049,\"userid\":\"TKS4an1m\"},{\"text\":\"\\\\u4e0d\\\\u904e\\\\u7576\\\\u7136\\\\u9084\\\\u662f\\\\u6703\\\\u60f3\\\\u73fe\\\\u5834\\\\u89c0\\\\u770b\\\\u554a......\\\\uff01\",\"color\":\"#FFFFFF\",\"size\":1,\"position\":0,\"time\":38083,\"sn\":35028052,\"userid\":\"TKS4an1m\"},{\"text\":\"XDDDD\",\"color\":\"#FFFFFF\",\"size\":1,\"position\":0,\"time\":38795,\"sn\":35078753,\"userid\":\"chu020412\"},{\"text\":\"\\\\u7b11\\\\u6b7bXDD\",\"color\":\"#FFFFFF\",\"size\":1,\"position\":0,\"time\":42459,\"sn\":35570878,\"userid\":\"everybodygo\"},{\"text\":\"XDDD\",\"color\":\"#FFFFFF\",\"size\":1,\"position\":0,\"time\":42479,\"sn\":35078897,\"userid\":\"chu020412\"},{\"text\":\"\\\\u8d85\\\\u53ef\\\\u611b\\\\u54c8\\\\u54c8\\\\u54c8\\\\u54c8\\\\u54c8\",\"color\":\"#FFFFFF\",\"size\":1,\"position\":0,\"time\":42555,\"sn\":39910354,\"userid\":\"ILovebangtan\"},{\"text\":\"\\\\u539f\\\\u4f86\\\\u5df4\\\\u54c8\\\\u4e5f\\\\u6709\\\\u7b2c\\\\u4e00\\\\u5929\\\\u7684\\\\u5f71\\\\u7247\\\\uff0c\\\\u6c92\\\\u6ce8\\\\u610f\\\\u5230\",\"color\":\"#FF02D3\",\"size\":1,\"position\":0,\"time\":42896,\"sn\":39135949,\"userid\":\"Pocahontas\"},{\"text\":\"\\\\u8c6c\\\\u8c6c\\\\u597d\\\\u53ef\\\\u611b\",\"color\":\"#FFFFFF\",\"size\":1,\"position\":0,\"time\":43056,\"sn\":35078922,\"userid\":\"chu020412\"},{\"text\":\"\\\\u77f3\\\\u982d\\\\uff01\\\\uff01\\\\uff01\\\\uff01\\\\uff01\",\"color\":\"#FFFFFF\",\"size\":1,\"position\":0,\"time\":43558,\"sn\":38063529,\"userid\":\"gracechen24\"},{\"text\":\"\\\\u70ba\\\\u4e86\\\\u770b\\\\u77f3\\\\u982d\\\\u624d\\\\u4f86\\\\u770b\\\\u9019\\\\u90e8\\\\uff01\",\"color\":\"#FFFFFF\",\"size\":1,\"position\":0,\"time\":43670,\"sn\":38063531,\"userid\":\"gracechen24\"},{\"text\":\"\\\\u4f86\\\\u4e86\",\"color\":\"#FFFFFF\",\"size\":1,\"position\":0,\"time\":44674,\"sn\":35078994,\"userid\":\"chu020412\"},{\"text\":\"\\\\u77f3\\\\u982d\\\\u6211\\\\u611b\\\\u4f60<3\",\"color\":\"#FFFFFF\",\"size\":1,\"position\":0,\"time\":44741,\"sn\":38063550,\"userid\":\"gracechen24\"},{\"text\":\"\\\\uff01\\\\uff01\\\\u5c31\\\\u662f\\\\u9019\\\\u500b\\\\u8b93\\\\u5927\\\\u5bb6\\\\u90fd\\\\u5fcd\\\\u4e0d\\\\u4f4f\\\\u9a5a\\\\u547c\\\\u7684\\\\u5927\\\\u9a5a\\\\u559c\\\\uff01\",\"color\":\"#FFFFFF\",\"size\":1,\"position\":0,\"time\":44760,\"sn\":35028073,\"userid\":\"TKS4an1m\"},{\"text\":\"\\\\u8ddf\\\\u70ad\\\\u9707\\\\u9a5a\\\\u4e0a\\\\u4e09\\\\u70ba\\\\u4f55\\\\u5728\\\\u6b64\\\\u7684\\\\u60c5\\\\u7dd2\\\\u5b8c\\\\u7f8e\\\\u91cd\\\\u758a\\\\u554a\\\\uff01\",\"color\":\"#FFFFFF\",\"size\":1,\"position\":0,\"time\":44781,\"sn\":35028115,\"userid\":\"TKS4an1m\"},{\"text\":\"????????\\\\u311f\\\\u02ca\",\"color\":\"#FFFFFF\",\"size\":1,\"position\":0,\"time\":44782,\"sn\":35079000,\"userid\":\"chu020412\"},{\"text\":\"\\\\u7576\\\\u6642\\\\u65e5\\\\u672c\\\\u9632\\\\u75ab\\\\u898f\\\\u5b9a\\\\u4e0d\\\\u80fd\\\\u51fa\\\\u8072\\\\u53ea\\\\u80fd\\\\u62cd\\\\u624bw\",\"color\":\"#FFFFFF\",\"size\":1,\"position\":0,\"time\":44786,\"sn\":35135648,\"userid\":\"akira0096\"},{\"text\":\"\\\\u7684\\\\u78ba\\\\u662f\\\\u9a5a\\\\u559c\\\\uff0c\\\\u4f46\\\\u672c\\\\u4f86\\\\u5c31\\\\u61c9\\\\u8a72\\\\u8acb\\\\u9b3c\\\\u7684\\\\u8072\\\\u512a\\\\ud83d\\\\ude14\",\"color\":\"#FFFFFF\",\"size\":1,\"position\":0,\"time\":44910,\"sn\":41637412,\"userid\":\"alex61152000\"},{\"text\":\"\\\\u55da\\\\u963f\",\"color\":\"#FFFFFF\",\"size\":1,\"position\":0,\"time\":45209,\"sn\":35079029,\"userid\":\"chu020412\"},{\"text\":\"\\\\u6316\\\\u9023\\\\u8214\\\\u8840\\\\u90fd\\\\u662f\\\\u73fe\\\\u5834\\\\u914d\",\"color\":\"#FFFFFF\",\"size\":1,\"position\":0,\"time\":45211,\"sn\":35135672,\"userid\":\"akira0096\"},{\"text\":\"\\\\ud83d\\\\ude31\\\\ud83d\\\\ude31\\\\ud83d\\\\ude31\\\\ud83d\\\\ude31\\\\ud83d\\\\ude31\\\\ud83d\\\\ude31\\\\ud83d\\\\ude31\\\\ud83d\\\\ude31\\\\ud83d\\\\udc4d\",\"color\":\"#FFFFFF\",\"size\":1,\"position\":0,\"time\":45245,\"sn\":38388119,\"userid\":\"alex61152000\"},{\"text\":\"\\\\u6211\\\\u89ba\\\\u5f97\\\\u8d85\\\\u5c4c\\\\ud83d\\\\ude2e\",\"color\":\"#FFFFFF\",\"size\":1,\"position\":0,\"time\":46114,\"sn\":38397172,\"userid\":\"alex61152000\"},{\"text\":\"\\\\u8fa3\\\\u500b\\\\u7537\\\\u4eba...\",\"color\":\"#FFFFFF\",\"size\":1,\"position\":0,\"time\":46984,\"sn\":35081466,\"userid\":\"chu020412\"},{\"text\":\"\\\\u8001\\\\u95c6\\\\u53eb\\\\u4f60\\\\u505a\\\\u4ec0\\\\u9ebc\\\\uff0c\\\\u4f60\\\\u53bb\\\\u505a\\\\u4ec0\\\\u9ebc\\\\ud83d\\\\ude02\",\"color\":\"#FFFFFF\",\"size\":1,\"position\":0,\"time\":47199,\"sn\":43868868,\"userid\":\"alex61152000\"},{\"text\":\"\\\\u55da\\\\u55da\\\\u55da \\\\u5927\\\\u54e5\",\"color\":\"#FFFFFF\",\"size\":1,\"position\":0,\"time\":52125,\"sn\":41672209,\"userid\":\"ai800910\"},{\"text\":\"\\\\u53c8\\\\u8981\\\\u518d\\\\u8650\\\\u4e00\\\\u904d...\",\"color\":\"#FFFFFF\",\"size\":1,\"position\":0,\"time\":53390,\"sn\":36231350,\"userid\":\"d10722d2\"},{\"text\":\"\\\\u771f\\\\u7684\",\"color\":\"#FFFFFF\",\"size\":1,\"position\":0,\"time\":53425,\"sn\":41672223,\"userid\":\"ai800910\"},{\"text\":\"\\\\u5481 \\\\u6211\\\\u53c8\\\\u54ed\\\\u4e86\",\"color\":\"#FFFFFF\",\"size\":1,\"position\":0,\"time\":53465,\"sn\":39910496,\"userid\":\"ILovebangtan\"},{\"text\":\"\\\\u6bcd\\\\u89aa\\\\u5927\\\\u4ebaTTTT\",\"color\":\"#FFFFFF\",\"size\":1,\"position\":0,\"time\":54103,\"sn\":35081701,\"userid\":\"chu020412\"},{\"text\":\"\\\\u6316\\\\u554a......\\\\u5929\\\\u554a\\\\u597d\\\\u9707\\\\u64bc\",\"color\":\"#FFFFFF\",\"size\":1,\"position\":0,\"time\":55461,\"sn\":35135692,\"userid\":\"akira0096\"},{\"text\":\"\\\\u77f3\\\\u7530\\\\u5f70\\\\u73fe\\\\u5834\\\\u7684\\\\u8072\\\\u97f3\\\\u597d\\\\u8b9a\\\\uff01\\\\uff01\\\\uff01\",\"color\":\"#FFFFFF\",\"size\":1,\"position\":0,\"time\":55567,\"sn\":42411144,\"userid\":\"a446693\"},{\"text\":\"\\\\u9023\\\\u6253\\\\u5149\\\\u90fd\\\\u8d85\\\\u7d1a\\\\u8b9a\\\\uff0c\\\\u597d\\\\u878d\\\\u5165\\\\u6c23\\\\u6c1b\",\"color\":\"#FFFFFF\",\"size\":1,\"position\":0,\"time\":55734,\"sn\":35135711,\"userid\":\"akira0096\"},{\"text\":\"respect\",\"color\":\"#0036FA\",\"size\":1,\"position\":0,\"time\":56119,\"sn\":35239431,\"userid\":\"Whsien1213\"},{\"text\":\"\\\\u958b\\\\u59cb\\\\u54ed\",\"color\":\"#FFFFFF\",\"size\":1,\"position\":0,\"time\":56140,\"sn\":35081769,\"userid\":\"chu020412\"},{\"text\":\"\\\\u4e7e \\\\u771f\\\\u7684\\\\u597d\\\\u795e \\\\u771f\\\\u7684\\\\u89ba\\\\u5f97\\\\u8072\\\\u512a\\\\u5011\\\\u592a\\\\u53b2\\\\u5bb3\\\\u4e86\",\"color\":\"#FFFFFF\",\"size\":2,\"position\":1,\"time\":56220,\"sn\":40279681,\"userid\":\"jimmy306789\"},{\"text\":\"\\\\u82b1\\\\u6c5f\\\\u771f\\\\u7684\\\\u592a\\\\u53b2\\\\u5bb3\\\\u4e86TTTT\",\"color\":\"#FFFFFF\",\"size\":1,\"position\":0,\"time\":56446,\"sn\":35081780,\"userid\":\"chu020412\"},{\"text\":\"\\\\u82b1\\\\u6c5f\\\\u592a\\\\u5f37\\\\u4e86\\\\u5566\\\\uff01\",\"color\":\"#FFFFFF\",\"size\":1,\"position\":0,\"time\":56490,\"sn\":42411149,\"userid\":\"a446693\"},{\"text\":\"\\\\u82b1\\\\u6c5f\\\\u771f\\\\u7684\\\\u53b2\\\\u5bb3\\\\uff0c\\\\u4e0d\\\\u53ea\\\\u662f\\\\u80cc\\\\u5287\\\\u672c\\\\uff0c\",\"color\":\"#FFFFFF\",\"size\":1,\"position\":0,\"time\":56521,\"sn\":35135772,\"userid\":\"akira0096\"},{\"text\":\"\\\\u4ed6\\\\u9023\\\\u773c\\\\u775b\\\\u90fd\\\\u9589\\\\u4e0a\\\\u4e0d\\\\u770b\\\\u5c0f\\\\u87a2\\\\u5e55\\\\uff0c\",\"color\":\"#FFFFFF\",\"size\":1,\"position\":0,\"time\":56524,\"sn\":35135774,\"userid\":\"akira0096\"},{\"text\":\"\\\\u4ed6\\\\u771f\\\\u7684\\\\u5f88\\\\u719f\\\\u7df4\\\\u53f0\\\\u8a5e\\\\u624d\\\\u5c0d\\\\u5f97\\\\u4e0a\\\\u756b\\\\u9762\",\"color\":\"#FFFFFF\",\"size\":1,\"position\":0,\"time\":56530,\"sn\":35135775,\"userid\":\"akira0096\"},{\"text\":\"\\\\u5927\\\\u54e5\\\\u6c92\\\\u6709\\\\u8f38!!!!\",\"color\":\"#FFFFFF\",\"size\":1,\"position\":0,\"time\":56613,\"sn\":35081786,\"userid\":\"chu020412\"},{\"text\":\"\\\\u914d\\\\u97f3\\\\u54e1\\\\u771f\\\\u7684\\\\u90fd\\\\u662f\\\\u795e...\",\"color\":\"#FFFFFF\",\"size\":1,\"position\":0,\"time\":56670,\"sn\":39573160,\"userid\":\"jenn28ab\"},{\"text\":\"\\\\u592a\\\\u4f69\\\\u670d\\\\u9019\\\\u7fa4\\\\u4eba\\\\u4e86\",\"color\":\"#FFFFFF\",\"size\":1,\"position\":0,\"time\":56823,\"sn\":36870081,\"userid\":\"steven2712\"},{\"text\":\"\\\\u82b1\\\\u6c5f\\\\u771f\\\\u7684\\\\u53b2\\\\u5bb3\",\"color\":\"#FFFFFF\",\"size\":1,\"position\":0,\"time\":57015,\"sn\":35199677,\"userid\":\"r124055351\"},{\"text\":\"\\\\u9019\\\\u908a\\\\u907a\\\\u8a00\\\\u8ddf\\\\u50b3\\\\u627f\\\\u771f\\\\u7684\\\\u592a\\\\u611f\\\\u4eba\\\\u4e86\",\"color\":\"#FFFFFF\",\"size\":1,\"position\":0,\"time\":58932,\"sn\":40382588,\"userid\":\"jerry4107\"},{\"text\":\"\\\\u54ed\\\\u7206\\\\u4e86\\\\u5566\",\"color\":\"#FFFFFF\",\"size\":1,\"position\":0,\"time\":59330,\"sn\":41672247,\"userid\":\"ai800910\"},{\"text\":\"\\\\u4ed6\\\\u5230\\\\u6b7b\\\\u90fd\\\\u6c92\\\\u6709\\\\u54ed...\\\\u771f\\\\u7684\\\\u5f88\\\\u5805\\\\u5f37..\",\"color\":\"#FF0026\",\"size\":2,\"position\":0,\"time\":59795,\"sn\":40523870,\"userid\":\"tshi606eggy\"},{\"text\":\"\\\\u54ed\\\\u721b\",\"color\":\"#FFFFFF\",\"size\":1,\"position\":0,\"time\":59935,\"sn\":40775885,\"userid\":\"snde0219\"},{\"text\":\"\\\\u8c6c\\\\u8c6cTTTTTTTTT\",\"color\":\"#FFFFFF\",\"size\":1,\"position\":0,\"time\":60796,\"sn\":35081916,\"userid\":\"chu020412\"},{\"text\":\"\\\\u54ed\\\\u721b\\\\u4e86....\",\"color\":\"#FFFFFF\",\"size\":1,\"position\":0,\"time\":61731,\"sn\":35081957,\"userid\":\"chu020412\"},{\"text\":\"\\\\u5929\\\\u554a!\\\\u8981\\\\u54ed\\\\u4e86QAQ\",\"color\":\"#FFFFFF\",\"size\":1,\"position\":0,\"time\":61958,\"sn\":35572076,\"userid\":\"everybodygo\"},{\"text\":\"777777777777\",\"color\":\"#FFFFFF\",\"size\":1,\"position\":0,\"time\":61960,\"sn\":35115245,\"userid\":\"badboy1111\"},{\"text\":\"\\\\u518d\\\\u54ed\\\\u4e00\\\\u6b21\",\"color\":\"#FFFFFF\",\"size\":1,\"position\":0,\"time\":61990,\"sn\":41672261,\"userid\":\"ai800910\"},{\"text\":\"\\\\u592a\\\\u611f\\\\u4eba\\\\u4e86\\\\u5566\\\\ud83e\\\\udd72\\\\ud83e\\\\udd72\",\"color\":\"#FFFFFF\",\"size\":1,\"position\":0,\"time\":62000,\"sn\":40279854,\"userid\":\"jimmy306789\"},{\"text\":\"\\\\u795e\\\\u66f2\",\"color\":\"#FFFFFF\",\"size\":1,\"position\":0,\"time\":62022,\"sn\":37694506,\"userid\":\"st1121233\"},{\"text\":\"\\\\u6551\\\\u547d\\\\u554a\\\\u54ed\\\\u5230\\\\u4e0d\\\\u884c\",\"color\":\"#FFFFFF\",\"size\":1,\"position\":0,\"time\":62135,\"sn\":35081972,\"userid\":\"chu020412\"},{\"text\":\"\\\\u807d\\\\u5230\\\\u5fc5\\\\u54ed.\",\"color\":\"#FFFFFF\",\"size\":1,\"position\":0,\"time\":62407,\"sn\":38490578,\"userid\":\"asd789777\"},{\"text\":\"LiSA\\\\u597d\\\\u6b63!!!!\",\"color\":\"#FFFFFF\",\"size\":1,\"position\":0,\"time\":62515,\"sn\":36870173,\"userid\":\"steven2712\"},{\"text\":\"\\\\u771f\\\\u706b\\\\ud83d\\\\ude05\",\"color\":\"#FFFFFF\",\"size\":1,\"position\":0,\"time\":62794,\"sn\":39922190,\"userid\":\"alex61152000\"},{\"text\":\"\\\\u6211\\\\u6c92\\\\u54ed\\\\u6b38...\\\\u662f\\\\u6211\\\\u5171\\\\u60c5\\\\u80fd\\\\u529b\\\\u4e0d\\\\u597d\\\\u55ce\",\"color\":\"#FF0026\",\"size\":2,\"position\":0,\"time\":64564,\"sn\":40524010,\"userid\":\"tshi606eggy\"},{\"text\":\"\\\\u2190\\\\u5c0d\\\\u554a\",\"color\":\"#FFFFFF\",\"size\":1,\"position\":0,\"time\":64588,\"sn\":42501195,\"userid\":\"seme\"},{\"text\":\"TT\",\"color\":\"#FFFFFF\",\"size\":1,\"position\":0,\"time\":65829,\"sn\":38689805,\"userid\":\"shes1040229\"},{\"text\":\"QQQQQQ\",\"color\":\"#FFFFFF\",\"size\":1,\"position\":0,\"time\":66354,\"sn\":36232463,\"userid\":\"d10722d2\"},{\"text\":\"\\\\u5927\\\\u54e5\\\\ud83d\\\\ude2d\\\\ud83d\\\\ude2d\\\\ud83d\\\\ude2d\",\"color\":\"#FFFFFF\",\"size\":1,\"position\":0,\"time\":66385,\"sn\":39910644,\"userid\":\"ILovebangtan\"},{\"text\":\"\\\\u5c4b\\\\u5abd\\\\u4e00!!\",\"color\":\"#FFFFFF\",\"size\":1,\"position\":0,\"time\":67469,\"sn\":36232600,\"userid\":\"d10722d2\"},{\"text\":\"\\\\u771f\\\\u7684\\\\u597d\\\\u68d2TTTT\",\"color\":\"#FFFFFF\",\"size\":1,\"position\":0,\"time\":67686,\"sn\":35082112,\"userid\":\"chu020412\"},{\"text\":\"\\\\u55da\\\\u55da\\\\u55da\",\"color\":\"#FFFFFF\",\"size\":1,\"position\":0,\"time\":69399,\"sn\":35082165,\"userid\":\"chu020412\"},{\"text\":\"\\\\u8b1d\\\\u8b1d \\\\u771f\\\\u7684\\\\u8d85\\\\u611f\\\\u8b1d\",\"color\":\"#FFFFFF\",\"size\":1,\"position\":0,\"time\":69484,\"sn\":35246965,\"userid\":\"Whsien1213\"},{\"text\":\"\\\\u8d85\\\\u611f\\\\u8b1d\\\\u8fa6\\\\u9019\\\\u500b\\\\u6d3b\\\\u52d5 \\\\u597d\\\\u559c\\\\u6b61\\\\u554a\\\\ud83d\\\\ude2d\\\\ud83d\\\\ude2d\\\\ud83e\\\\udef6\",\"color\":\"#FFFFFF\",\"size\":1,\"position\":0,\"time\":69505,\"sn\":39910709,\"userid\":\"ILovebangtan\"},{\"text\":\"\\\\u592a\\\\u597d\\\\u770b\\\\u4e86~~~~~~~~~~~~~\",\"color\":\"#FFFFFF\",\"size\":1,\"position\":0,\"time\":69590,\"sn\":35572386,\"userid\":\"everybodygo\"}],\"totalCount\":151}}'\n"
          ]
        }
      ]
    },
    {
      "cell_type": "code",
      "source": [
        "print(type(\"abcde\"))"
      ],
      "metadata": {
        "colab": {
          "base_uri": "https://localhost:8080/"
        },
        "id": "zUcsAPlqST8t",
        "outputId": "e981a08d-ac3d-4b8d-ad9f-093e506f4c94"
      },
      "execution_count": 9,
      "outputs": [
        {
          "output_type": "stream",
          "name": "stdout",
          "text": [
            "<class 'str'>\n"
          ]
        }
      ]
    },
    {
      "cell_type": "markdown",
      "source": [
        "\n",
        "\n",
        "```\n",
        "list操作\n",
        "```\n",
        "\n"
      ],
      "metadata": {
        "id": "U_PRif_3Uilz"
      }
    },
    {
      "cell_type": "code",
      "source": [
        "scores = [20, 60, 30, 40]\n",
        "print(scores[0])\n",
        "\n",
        "print(sum(scores), max(scores), min(scores), len(scores))\n",
        "\n",
        "# print(scores[len(scores)-1])\n",
        "# 除了 0 1 2 3 這組key\n",
        "# python還幫你創造了第二組key\n",
        "# -4 -3 -2 -1\n",
        "print(scores[-1])\n",
        "\n",
        "scores[-2] = scores[-2] + 19\n",
        "print(scores)"
      ],
      "metadata": {
        "colab": {
          "base_uri": "https://localhost:8080/"
        },
        "id": "tfLGJCKRUhzu",
        "outputId": "386cbb7c-c867-47b3-ae79-29f91f992e22"
      },
      "execution_count": 14,
      "outputs": [
        {
          "output_type": "stream",
          "name": "stdout",
          "text": [
            "20\n",
            "150 60 20 4\n",
            "40\n",
            "[20, 60, 49, 40]\n"
          ]
        }
      ]
    },
    {
      "cell_type": "code",
      "source": [
        "scores = [80, 60, 20, 90, 30]\n",
        "\n",
        "count = 0\n",
        "i = 0\n",
        "while i < len(scores):\n",
        "    # !! 假設今天是一個沒有順序的群, 那這個語法就失效了\n",
        "    # 因為[0] [1] [2] 這種東西是要有順序才會有\n",
        "    c = scores[i]\n",
        "    if c >= 60:\n",
        "        count = count + 1\n",
        "    i = i + 1\n",
        "print(count)"
      ],
      "metadata": {
        "colab": {
          "base_uri": "https://localhost:8080/"
        },
        "id": "IwBP608MXfMr",
        "outputId": "3133a13e-dd92-4627-b1e1-1f94e5e79b44"
      },
      "execution_count": 16,
      "outputs": [
        {
          "output_type": "stream",
          "name": "stdout",
          "text": [
            "3\n"
          ]
        }
      ]
    },
    {
      "cell_type": "code",
      "source": [
        "# for 名稱 in 群(list/str): 走過\n",
        "count = 0\n",
        "for c in scores:\n",
        "    if c >= 60:\n",
        "        count = count + 1\n",
        "print(count)"
      ],
      "metadata": {
        "colab": {
          "base_uri": "https://localhost:8080/"
        },
        "id": "tLXw9M9tYzqe",
        "outputId": "7fadac8b-2755-4f49-9c26-17a38cc49115"
      },
      "execution_count": 17,
      "outputs": [
        {
          "output_type": "stream",
          "name": "stdout",
          "text": [
            "3\n"
          ]
        }
      ]
    },
    {
      "cell_type": "code",
      "source": [
        "total = 0\n",
        "i = 0\n",
        "while i < 10:\n",
        "    total = total + (i + 1)\n",
        "    print(total)\n",
        "    i = i + 1"
      ],
      "metadata": {
        "id": "JehuLGKYfqc4"
      },
      "execution_count": null,
      "outputs": []
    },
    {
      "cell_type": "code",
      "source": [
        "# range(5): [0, 1, 2, 3, 4]\n",
        "# range(3, 5): [3, 4]\n",
        "total = 0\n",
        "for i in range(10):\n",
        "    total = total + (i + 1)\n",
        "    print(total)"
      ],
      "metadata": {
        "colab": {
          "base_uri": "https://localhost:8080/"
        },
        "id": "DmZg06pMgJLe",
        "outputId": "6778aab0-801d-4aea-8a02-cdc6e2f0c911"
      },
      "execution_count": 19,
      "outputs": [
        {
          "output_type": "stream",
          "name": "stdout",
          "text": [
            "1\n",
            "3\n",
            "6\n",
            "10\n",
            "15\n",
            "21\n",
            "28\n",
            "36\n",
            "45\n",
            "55\n"
          ]
        }
      ]
    },
    {
      "cell_type": "markdown",
      "source": [
        "\n",
        "\n",
        "```\n",
        "迴圈SOP!!!\n",
        "\n",
        "1. 固定次數: for i in range(次) i=0...次-1\n",
        "2. 走過一群: for 名稱 in 群(str/list)\n",
        "3. 其他條件: while True+break\n",
        "```\n",
        "\n"
      ],
      "metadata": {
        "id": "JxiVrSnJiBim"
      }
    },
    {
      "cell_type": "code",
      "source": [
        "# 字典: 聚集多個小單位, 變成一個複雜的東西\n",
        "# 一群學生: [學生1, 學生2]\n",
        "# 一個學生: 會使用\"字典\"(dict)型態\n",
        "# {key:value}\n",
        "# key也是一個值, 具有型態(int/str)\n",
        "# !!! key是你自訂的, 所以字典是沒有所謂順序\n",
        "student = {\n",
        "    \"height\":175,\n",
        "    \"姓名\":\"Elwing\"\n",
        "}\n",
        "print(student)\n",
        "# 查詢\n",
        "print(student[\"姓名\"])\n",
        "\n",
        "student[\"weight\"] = 73\n",
        "print(student)\n",
        "\n",
        "student[\"height\"] = student[\"height\"] + 5\n",
        "print(student)"
      ],
      "metadata": {
        "colab": {
          "base_uri": "https://localhost:8080/"
        },
        "id": "zoEVK-hDl490",
        "outputId": "24d700eb-9070-4c74-ec68-2ceb5a4721ca"
      },
      "execution_count": 23,
      "outputs": [
        {
          "output_type": "stream",
          "name": "stdout",
          "text": [
            "{'height': 175, '姓名': 'Elwing'}\n",
            "Elwing\n",
            "{'height': 175, '姓名': 'Elwing', 'weight': 73}\n",
            "{'height': 180, '姓名': 'Elwing', 'weight': 73}\n"
          ]
        }
      ]
    }
  ]
}