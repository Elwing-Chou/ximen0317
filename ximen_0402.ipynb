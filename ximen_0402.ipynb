{
  "nbformat": 4,
  "nbformat_minor": 0,
  "metadata": {
    "colab": {
      "provenance": [],
      "authorship_tag": "ABX9TyPzfR+KVCswsuZ8Op9zz9nq",
      "include_colab_link": true
    },
    "kernelspec": {
      "name": "python3",
      "display_name": "Python 3"
    },
    "language_info": {
      "name": "python"
    }
  },
  "cells": [
    {
      "cell_type": "markdown",
      "metadata": {
        "id": "view-in-github",
        "colab_type": "text"
      },
      "source": [
        "<a href=\"https://colab.research.google.com/github/Elwing-Chou/ximen0317/blob/main/ximen_0402.ipynb\" target=\"_parent\"><img src=\"https://colab.research.google.com/assets/colab-badge.svg\" alt=\"Open In Colab\"/></a>"
      ]
    },
    {
      "cell_type": "code",
      "execution_count": 5,
      "metadata": {
        "id": "c9acxGZfMqbd"
      },
      "outputs": [],
      "source": [
        "f = open(\"a.txt\", \"w\", encoding=\"utf-8\")\n",
        "# 寫入\n",
        "# 以前: write(f, \"abcde\")\n",
        "# 專屬(型態)功能: f.write(\"abcde\")\n",
        "# 打不出來字: \\n \\t\n",
        "f.write(\"abcde\\n\")\n",
        "f.write(\"fghij\")\n",
        "# 以前: close(f)\n",
        "# 專屬功能: f.close()\n",
        "f.close()"
      ]
    },
    {
      "cell_type": "code",
      "source": [
        "f = open(\"a.txt\", \"r\", encoding=\"utf-8\")\n",
        "# 以前: content = read(f)\n",
        "content = f.read()\n",
        "print(content)\n",
        "f.close()"
      ],
      "metadata": {
        "colab": {
          "base_uri": "https://localhost:8080/"
        },
        "id": "jy6jtRGOOKlu",
        "outputId": "cefb68aa-2054-4da3-ed07-136ca156b6c1"
      },
      "execution_count": 6,
      "outputs": [
        {
          "output_type": "stream",
          "name": "stdout",
          "text": [
            "abcde\n",
            "fghij\n"
          ]
        }
      ]
    },
    {
      "cell_type": "markdown",
      "source": [
        "\n",
        "\n",
        "```\n",
        "LIST+DICT: JSON格式\n",
        "```\n",
        "\n"
      ],
      "metadata": {
        "id": "76fQVSzmqu5i"
      }
    },
    {
      "cell_type": "markdown",
      "source": [
        "\n",
        "\n",
        "```\n",
        "標準表格(CSV, TSV)\n",
        "CSV: comma-separated values\n",
        "TSV: tab\n",
        "\n",
        "姓名, 身高\n",
        "Elwing, 175\n",
        "Bob, 180\n",
        "\"Elwing, Mr. Chou\", 190\n",
        "\n",
        "```\n",
        "\n"
      ],
      "metadata": {
        "id": "Bcq3dE7wvg5n"
      }
    },
    {
      "cell_type": "code",
      "source": [
        "import json\n",
        "import urllib.request as req\n",
        "\n",
        "# add\n",
        "tsv = open(\"danmu.tsv\", \"w\", encoding=\"utf-8\")\n",
        "tsv.write(\"ID\\tDanmu\\n\")\n",
        "\n",
        "url = \"https://api.gamer.com.tw/anime/v1/danmu.php?videoSn=34643&geo=TW%2CHK\"\n",
        "f = req.urlopen(url)\n",
        "content = f.read()\n",
        "# bytes型態: 更原始的字串 0101構成的東西\n",
        "# print(type(content))\n",
        "# print(content)\n",
        "content_convert = json.loads(content)\n",
        "# print(type(content_convert))\n",
        "data = content_convert[\"data\"]\n",
        "danmu_list = data[\"danmu\"]\n",
        "for danmu in danmu_list:\n",
        "    userid = danmu[\"userid\"]\n",
        "    text = danmu[\"text\"]\n",
        "    print(userid, \":\", text)\n",
        "    # add\n",
        "    line = userid + \"\\t\" + text + \"\\n\"\n",
        "    tsv.write(line)\n",
        "# add\n",
        "tsv.close()"
      ],
      "metadata": {
        "colab": {
          "base_uri": "https://localhost:8080/"
        },
        "id": "ZIISIom5QzBu",
        "outputId": "7cc1990c-8984-4f67-ba79-9d0b159ec778"
      },
      "execution_count": 29,
      "outputs": [
        {
          "output_type": "stream",
          "name": "stdout",
          "text": [
            "Vigar09995 : 剛複習完上一篇章的⋯接著看囉😎\n",
            "TKS4an1m : 感謝巴哈、感謝木棉花！\n",
            "m8wy5r2dn9 : 蠟筆\n",
            "chu020412 : 來了!\n",
            "love3769846 : 簽\n",
            "cometed : 簽\n",
            "簽\n",
            "howspecial08 : 2024/07/14\n",
            "angel99104qz : 嗨\n",
            "chu020412 : XDDDD\n",
            "crazy125160 : 好可愛ㄉ對話\n",
            "love3769846 : 豬豬\n",
            "love3769846 : 音很像了\n",
            "allen5144 : 所以配音員沒辦法背台詞是真的\n",
            "love3769846 : 哈哈\n",
            "chu020412 : XDDD\n",
            "chu020412 : 真的好辛苦XDDDu\n",
            "tshi606eggy : 總感覺炭治郎聲優長得像林俊傑\n",
            "chu020412 : 醬油糰子掉地上了\n",
            "domotomaki : 放了三個月的團子🍡\n",
            "Vigar09995 : 上回破門，這回破牆🤣\n",
            "tshi606eggy : 超好笑\n",
            "chu020412 : 好痛XDDDDD\n",
            "huasi : 好真實的笑場wwwwwww\n",
            "chu020412 : 好可愛XDDDD\n",
            "qqyy00 : 好可愛\n",
            "r124055351 : 是要跳多久哈哈哈\n",
            "love3769846 : 哈哈\n",
            "d10722d2 : 好會跳wwwwwwwwwwww\n",
            "chu020412 : 跳跳虎拯救世界\n",
            "Vigar09995 : 剛剛忙把彌豆子裝箱嗎？🤣\n",
            "chu020412 : XDDDDD\n",
            "miq117 : 笑到肚子痛\n",
            "tshi606eggy : 善逸你出任務出什麼的啦😂\n",
            "love3769846 : 豬豬吃東西真可愛\n",
            "Pocahontas : 明里妹妹好可愛❤\n",
            "love3769846 : 我以為從箱子出來\n",
            "chu020412 : 好可愛嗚嗚嗚\n",
            "im1412 : 怎麼有個薪水小偷www\n",
            "BHSN00002wxq : 笑死😆\n",
            "chu020412 : 嗚阿\n",
            "d10722d2 : 居然有請LiSA!!超喜歡這首\n",
            "WJ816 : 超喜歡這句!!\n",
            "WJ816 : 投影幕的效果好棒啊\n",
            "WJ816 : 這首詞曲都超棒的QQ 梶浦和Lisa的組合超讚\n",
            "WJ816 : 這邊像是演歌的合音超棒~~ 追逐著太陽QQ\n",
            "Pocahontas : 居然有請日野聰來\n",
            "Pocahontas : 明里妹妹生氣氣🤣\n",
            "love3769846 : 大哥的表情好好笑\n",
            "chu020412 : 眼神XDDD\n",
            "lehua6661 : 下野紘太可愛了\n",
            "alex61152000 : 彈幕彈幕彈幕😱\n",
            "chu020412 : 好讚ㄟ還有火\n",
            "BHSN00002wxq : 是喔\n",
            "chu020412 : 六太TTTT\n",
            "tshi606eggy : 幹我看到快哭出來\n",
            "Vigar09995 : 這⋯彌豆子是換人演嗎？鬼頭？\n",
            "crazy125160 : 這句超催淚\n",
            "a446693 : 花江也太強了吧嗚嗚嗚\n",
            "a446693 : 光聽他的聲音就想流淚\n",
            "chu020412 : 哭爛...\n",
            "alex61152000 : 🥺\n",
            "Ninja007 : 刀砍下去,是立體音雙聲道\n",
            "Shen2481109 : 明知她很認真在配音，但就是忍不住笑出來w\n",
            "a446693 : 彌豆子配音員聲音好可愛但本人好冷靜喔XDDD\n",
            "jerry4107 : +1...\n",
            "a446693 : 好違和XDDDD\n",
            "alex61152000 : 大哥!\n",
            "rita19880908 : 帥！\n",
            "a446693 : 大哥太帥了啦！\n",
            "chu020412 : 布景好用心...\n",
            "tshi606eggy : 仔細劈開是什麼好好笑\n",
            "everybodygo : LiSA!!!!!!!!!!!!!!!!!!!!!!\n",
            "ILovebangtan : 超好聽🥹🥹🥹\n",
            "d10722d2 : 希望LiSA可以繼續為鬼滅唱OPED\n",
            "everybodygo : 太好聽了~~~\n",
            "blood1408 : 剛好農曆7月看，大哥回來玩剛好XD\n",
            "chu020412 : XDDDD\n",
            "chu020412 : 水壺好可愛\n",
            "Pocahontas : 可惜沒有第一天的影片\n",
            "cyhs1100274 : 感覺很尬\n",
            "chu020412 : 氣氛好好\n",
            "KiMo508 : ＂\n",
            "TKS4an1m : 感謝配信、感謝DVD，全世界都看到的喔！\n",
            "TKS4an1m : 不過當然還是會想現場觀看啊......！\n",
            "chu020412 : XDDDD\n",
            "everybodygo : 笑死XDD\n",
            "chu020412 : XDDD\n",
            "ILovebangtan : 超可愛哈哈哈哈哈\n",
            "Pocahontas : 原來巴哈也有第一天的影片，沒注意到\n",
            "chu020412 : 豬豬好可愛\n",
            "gracechen24 : 石頭！！！！！\n",
            "gracechen24 : 為了看石頭才來看這部！\n",
            "chu020412 : 來了\n",
            "gracechen24 : 石頭我愛你<3\n",
            "TKS4an1m : ！！就是這個讓大家都忍不住驚呼的大驚喜！\n",
            "TKS4an1m : 跟炭震驚上三為何在此的情緒完美重疊啊！\n",
            "chu020412 : ????????ㄟˊ\n",
            "akira0096 : 當時日本防疫規定不能出聲只能拍手w\n",
            "alex61152000 : 的確是驚喜，但本來就應該請鬼的聲優😔\n",
            "chu020412 : 嗚阿\n",
            "akira0096 : 挖連舔血都是現場配\n",
            "alex61152000 : 😱😱😱😱😱😱😱😱👍\n",
            "alex61152000 : 我覺得超屌😮\n",
            "chu020412 : 辣個男人...\n",
            "alex61152000 : 老闆叫你做什麼，你去做什麼😂\n",
            "ai800910 : 嗚嗚嗚 大哥\n",
            "d10722d2 : 又要再虐一遍...\n",
            "ai800910 : 真的\n",
            "ILovebangtan : 咁 我又哭了\n",
            "chu020412 : 母親大人TTTT\n",
            "akira0096 : 挖啊......天啊好震撼\n",
            "a446693 : 石田彰現場的聲音好讚！！！\n",
            "akira0096 : 連打光都超級讚，好融入氣氛\n",
            "Whsien1213 : respect\n",
            "chu020412 : 開始哭\n",
            "jimmy306789 : 乾 真的好神 真的覺得聲優們太厲害了\n",
            "chu020412 : 花江真的太厲害了TTTT\n",
            "a446693 : 花江太強了啦！\n",
            "akira0096 : 花江真的厲害，不只是背劇本，\n",
            "akira0096 : 他連眼睛都閉上不看小螢幕，\n",
            "akira0096 : 他真的很熟練台詞才對得上畫面\n",
            "chu020412 : 大哥沒有輸!!!!\n",
            "jenn28ab : 配音員真的都是神...\n",
            "steven2712 : 太佩服這群人了\n",
            "r124055351 : 花江真的厲害\n",
            "jerry4107 : 這邊遺言跟傳承真的太感人了\n",
            "ai800910 : 哭爆了啦\n",
            "tshi606eggy : 他到死都沒有哭...真的很堅強..\n",
            "snde0219 : 哭爛\n",
            "chu020412 : 豬豬TTTTTTTTT\n",
            "chu020412 : 哭爛了....\n",
            "everybodygo : 天啊!要哭了QAQ\n",
            "badboy1111 : 777777777777\n",
            "ai800910 : 再哭一次\n",
            "jimmy306789 : 太感人了啦🥲🥲\n",
            "st1121233 : 神曲\n",
            "chu020412 : 救命啊哭到不行\n",
            "asd789777 : 聽到必哭.\n",
            "steven2712 : LiSA好正!!!!\n",
            "alex61152000 : 真火😅\n",
            "tshi606eggy : 我沒哭欸...是我共情能力不好嗎\n",
            "seme : ←對啊\n",
            "shes1040229 : TT\n",
            "d10722d2 : QQQQQQ\n",
            "ILovebangtan : 大哥😭😭😭\n",
            "d10722d2 : 屋媽一!!\n",
            "chu020412 : 真的好棒TTTT\n",
            "chu020412 : 嗚嗚嗚\n",
            "Whsien1213 : 謝謝 真的超感謝\n",
            "ILovebangtan : 超感謝辦這個活動 好喜歡啊😭😭🫶\n",
            "everybodygo : 太好看了~~~~~~~~~~~~~\n"
          ]
        }
      ]
    },
    {
      "cell_type": "code",
      "source": [
        "print(type(\"abcde\"))"
      ],
      "metadata": {
        "colab": {
          "base_uri": "https://localhost:8080/"
        },
        "id": "zUcsAPlqST8t",
        "outputId": "e981a08d-ac3d-4b8d-ad9f-093e506f4c94"
      },
      "execution_count": 9,
      "outputs": [
        {
          "output_type": "stream",
          "name": "stdout",
          "text": [
            "<class 'str'>\n"
          ]
        }
      ]
    },
    {
      "cell_type": "markdown",
      "source": [
        "\n",
        "\n",
        "```\n",
        "list操作\n",
        "```\n",
        "\n"
      ],
      "metadata": {
        "id": "U_PRif_3Uilz"
      }
    },
    {
      "cell_type": "code",
      "source": [
        "scores = [20, 60, 30, 40]\n",
        "print(scores[0])\n",
        "\n",
        "print(sum(scores), max(scores), min(scores), len(scores))\n",
        "\n",
        "# print(scores[len(scores)-1])\n",
        "# 除了 0 1 2 3 這組key\n",
        "# python還幫你創造了第二組key\n",
        "# -4 -3 -2 -1\n",
        "print(scores[-1])\n",
        "\n",
        "scores[-2] = scores[-2] + 19\n",
        "print(scores)"
      ],
      "metadata": {
        "colab": {
          "base_uri": "https://localhost:8080/"
        },
        "id": "tfLGJCKRUhzu",
        "outputId": "386cbb7c-c867-47b3-ae79-29f91f992e22"
      },
      "execution_count": 14,
      "outputs": [
        {
          "output_type": "stream",
          "name": "stdout",
          "text": [
            "20\n",
            "150 60 20 4\n",
            "40\n",
            "[20, 60, 49, 40]\n"
          ]
        }
      ]
    },
    {
      "cell_type": "code",
      "source": [
        "scores = [80, 60, 20, 90, 30]\n",
        "\n",
        "count = 0\n",
        "i = 0\n",
        "while i < len(scores):\n",
        "    # !! 假設今天是一個沒有順序的群, 那這個語法就失效了\n",
        "    # 因為[0] [1] [2] 這種東西是要有順序才會有\n",
        "    c = scores[i]\n",
        "    if c >= 60:\n",
        "        count = count + 1\n",
        "    i = i + 1\n",
        "print(count)"
      ],
      "metadata": {
        "colab": {
          "base_uri": "https://localhost:8080/"
        },
        "id": "IwBP608MXfMr",
        "outputId": "3133a13e-dd92-4627-b1e1-1f94e5e79b44"
      },
      "execution_count": 16,
      "outputs": [
        {
          "output_type": "stream",
          "name": "stdout",
          "text": [
            "3\n"
          ]
        }
      ]
    },
    {
      "cell_type": "code",
      "source": [
        "# for 名稱 in 群(list/str): 走過\n",
        "count = 0\n",
        "for c in scores:\n",
        "    if c >= 60:\n",
        "        count = count + 1\n",
        "print(count)"
      ],
      "metadata": {
        "colab": {
          "base_uri": "https://localhost:8080/"
        },
        "id": "tLXw9M9tYzqe",
        "outputId": "7fadac8b-2755-4f49-9c26-17a38cc49115"
      },
      "execution_count": 17,
      "outputs": [
        {
          "output_type": "stream",
          "name": "stdout",
          "text": [
            "3\n"
          ]
        }
      ]
    },
    {
      "cell_type": "code",
      "source": [
        "total = 0\n",
        "i = 0\n",
        "while i < 10:\n",
        "    total = total + (i + 1)\n",
        "    print(total)\n",
        "    i = i + 1"
      ],
      "metadata": {
        "id": "JehuLGKYfqc4"
      },
      "execution_count": null,
      "outputs": []
    },
    {
      "cell_type": "code",
      "source": [
        "# range(5): [0, 1, 2, 3, 4]\n",
        "# range(3, 5): [3, 4]\n",
        "total = 0\n",
        "for i in range(10):\n",
        "    total = total + (i + 1)\n",
        "    print(total)"
      ],
      "metadata": {
        "colab": {
          "base_uri": "https://localhost:8080/"
        },
        "id": "DmZg06pMgJLe",
        "outputId": "6778aab0-801d-4aea-8a02-cdc6e2f0c911"
      },
      "execution_count": 19,
      "outputs": [
        {
          "output_type": "stream",
          "name": "stdout",
          "text": [
            "1\n",
            "3\n",
            "6\n",
            "10\n",
            "15\n",
            "21\n",
            "28\n",
            "36\n",
            "45\n",
            "55\n"
          ]
        }
      ]
    },
    {
      "cell_type": "markdown",
      "source": [
        "\n",
        "\n",
        "```\n",
        "迴圈SOP!!!\n",
        "\n",
        "1. 固定次數: for i in range(次) i=0...次-1\n",
        "2. 走過一群: for 名稱 in 群(str/list)\n",
        "3. 其他條件: while True+break\n",
        "```\n",
        "\n"
      ],
      "metadata": {
        "id": "JxiVrSnJiBim"
      }
    },
    {
      "cell_type": "code",
      "source": [
        "# 字典: 聚集多個小單位, 變成一個複雜的東西\n",
        "# 一群學生: [學生1, 學生2]\n",
        "# 一個學生: 會使用\"字典\"(dict)型態\n",
        "# {key:value}\n",
        "# key也是一個值, 具有型態(int/str)\n",
        "# !!! key是你自訂的, 所以字典是沒有所謂順序\n",
        "student = {\n",
        "    \"height\":175,\n",
        "    \"姓名\":\"Elwing\"\n",
        "}\n",
        "print(student)\n",
        "# 查詢\n",
        "print(student[\"姓名\"])\n",
        "\n",
        "student[\"weight\"] = 73\n",
        "print(student)\n",
        "\n",
        "student[\"height\"] = student[\"height\"] + 5\n",
        "print(student)"
      ],
      "metadata": {
        "colab": {
          "base_uri": "https://localhost:8080/"
        },
        "id": "zoEVK-hDl490",
        "outputId": "24d700eb-9070-4c74-ec68-2ceb5a4721ca"
      },
      "execution_count": 23,
      "outputs": [
        {
          "output_type": "stream",
          "name": "stdout",
          "text": [
            "{'height': 175, '姓名': 'Elwing'}\n",
            "Elwing\n",
            "{'height': 175, '姓名': 'Elwing', 'weight': 73}\n",
            "{'height': 180, '姓名': 'Elwing', 'weight': 73}\n"
          ]
        }
      ]
    }
  ]
}