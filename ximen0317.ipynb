{
  "nbformat": 4,
  "nbformat_minor": 0,
  "metadata": {
    "colab": {
      "provenance": [],
      "authorship_tag": "ABX9TyPMfwXmRkpTam2XO2lpBbkc",
      "include_colab_link": true
    },
    "kernelspec": {
      "name": "python3",
      "display_name": "Python 3"
    },
    "language_info": {
      "name": "python"
    }
  },
  "cells": [
    {
      "cell_type": "markdown",
      "metadata": {
        "id": "view-in-github",
        "colab_type": "text"
      },
      "source": [
        "<a href=\"https://colab.research.google.com/github/Elwing-Chou/ximen0317/blob/main/ximen0317.ipynb\" target=\"_parent\"><img src=\"https://colab.research.google.com/assets/colab-badge.svg\" alt=\"Open In Colab\"/></a>"
      ]
    },
    {
      "cell_type": "markdown",
      "source": [
        "\n",
        "```\n",
        "BMI程式\n",
        "1. 可以讓使用者輸入自己的身高體重\n",
        "2. 根據身高體重計算bmi\n",
        "3. 根據bmi給出建議\n",
        "\n",
        "0. 註解語法: # 任意文字\n",
        "* 好的程式=可讀性高的程式\n",
        "\n",
        "1. 功能(function): print(參數)\n",
        "* 就算這功能沒有參數: 功能名字()\n",
        "2. 排版: PEP coding style\n",
        "3. !!! 不要重複寫\n",
        "4. =: 名稱 = 值\n",
        "  a. 5 == 3 + 2(是否相等)\n",
        "  b. x = 2(取代)\n",
        "5. 型態(Type):\n",
        "  a. 數字型態: 細分兩種, 整數(int) 小數(float)\n",
        "  b. 字串型態(str): \"xxxxx\"\n",
        "6. Python其實很嚴格: 不會幫你偷雞摸狗\n",
        "  其他語言 \"abc\" + 2->偷偷把2轉換成字串\n",
        "       \"abc\" + \"2\"\n",
        "  * 不同類型的東西基本上不能加減乘除的\n",
        "7. 型態轉換: int() float() str()\n",
        "8. 輸入功能: input(\"提示字串\")\n",
        "  * 功能你要注意\n",
        "  * 1. 參數\n",
        "  * 2. 回傳值: 做完這個功能所回覆的\"新的值\"(check type)\n",
        "9. 選擇(如果...否則)(if else)(>, >=, <=, <, ==)\n",
        "\n",
        "* 強制排版: 縮排(劇本排版法)\n",
        "* 劇本排版(冒號/TAB)\n",
        "Elwing:\n",
        "    xxxxx\n",
        "    xxxxx\n",
        "Bob:\n",
        "    xxx\n",
        "\n",
        "if bmi > 25:\n",
        "    print()\n",
        "    print()\n",
        "else:\n",
        "    print()\n",
        "\n",
        "* 看到indentation error代表縮排有問題\n",
        "\n",
        "```\n"
      ],
      "metadata": {
        "id": "DECDxeF78qpk"
      }
    },
    {
      "cell_type": "code",
      "execution_count": 34,
      "metadata": {
        "id": "lF_J_jO23AE4",
        "colab": {
          "base_uri": "https://localhost:8080/"
        },
        "outputId": "a73696fa-f269-434e-aa7e-a0d82b07afd7"
      },
      "outputs": [
        {
          "output_type": "stream",
          "name": "stdout",
          "text": [
            "請輸入體重:80\n",
            "請輸入身高:175\n",
            "你的體重是:80.0\n",
            "你的身高是:175.0\n",
            "bmi是:26.122448979591837\n",
            "體重過重\n",
            "!!!!!!!\n"
          ]
        }
      ],
      "source": [
        "# bmi=weight(kg)/height(m)^2\n",
        "weight = float(input(\"請輸入體重:\"))\n",
        "height = float(input(\"請輸入身高:\"))\n",
        "bmi = weight / (height / 100) ** 2\n",
        "print(\"你的體重是:\" + str(weight))\n",
        "print(\"你的身高是:\" + str(height))\n",
        "print(\"bmi是:\" + str(bmi))\n",
        "\n",
        "if bmi > 25:\n",
        "  print(\"體重過重\")\n",
        "else:\n",
        "  print(\"體重正常\")\n",
        "print(\"!!!!!!!\")"
      ]
    },
    {
      "cell_type": "markdown",
      "source": [
        "\n",
        "```\n",
        "科普!\n",
        "\n",
        "小數誤差(名字我個人覺得不好)\n",
        "* 因為小數本來就不是精確值, 而是估計值\n",
        "\n",
        "數數:\n",
        "十進位: 0....9 10....19\n",
        "三進位: 0 1 2 10 11 12 20 21 22 100\n",
        "電腦是二進位: 0 1 10 11 100 101\n",
        "\n",
        "一塊蛋糕: 切成三塊\n",
        "十進位: 0.3333333333 無限小數\n",
        "三進位:  0.1\n",
        "\n",
        "```\n",
        "\n"
      ],
      "metadata": {
        "id": "UW5SaA6wEpeN"
      }
    },
    {
      "cell_type": "code",
      "source": [
        "# type(3)\n",
        "# type(3.0)\n",
        "3 + 3.14"
      ],
      "metadata": {
        "colab": {
          "base_uri": "https://localhost:8080/"
        },
        "id": "BrP4-igQEL3e",
        "outputId": "27b8dcde-60a0-4bf3-8c89-4a0f9b59ce05"
      },
      "execution_count": 11,
      "outputs": [
        {
          "output_type": "execute_result",
          "data": {
            "text/plain": [
              "6.140000000000001"
            ]
          },
          "metadata": {},
          "execution_count": 11
        }
      ]
    },
    {
      "cell_type": "code",
      "source": [
        "# demo 回傳值\n",
        "# X: 把4.7轉換成整數(1 number)\n",
        "# O: 利用這個4.7做出一個4(2 number)\n",
        "a = 4.7\n",
        "b = int(a)\n",
        "print(a)\n",
        "print(b)"
      ],
      "metadata": {
        "colab": {
          "base_uri": "https://localhost:8080/"
        },
        "id": "-cOYjl1-Pq-9",
        "outputId": "b20e962e-78c0-41c2-ea30-344b7d51d1d7"
      },
      "execution_count": 21,
      "outputs": [
        {
          "output_type": "stream",
          "name": "stdout",
          "text": [
            "4.7\n",
            "4\n"
          ]
        }
      ]
    }
  ]
}