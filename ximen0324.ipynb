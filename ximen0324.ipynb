{
  "nbformat": 4,
  "nbformat_minor": 0,
  "metadata": {
    "colab": {
      "provenance": [],
      "authorship_tag": "ABX9TyNs9D6jX9zJ40NJPgLiFJCR",
      "include_colab_link": true
    },
    "kernelspec": {
      "name": "python3",
      "display_name": "Python 3"
    },
    "language_info": {
      "name": "python"
    }
  },
  "cells": [
    {
      "cell_type": "markdown",
      "metadata": {
        "id": "view-in-github",
        "colab_type": "text"
      },
      "source": [
        "<a href=\"https://colab.research.google.com/github/Elwing-Chou/ximen0317/blob/main/ximen0324.ipynb\" target=\"_parent\"><img src=\"https://colab.research.google.com/assets/colab-badge.svg\" alt=\"Open In Colab\"/></a>"
      ]
    },
    {
      "cell_type": "markdown",
      "source": [
        "\n",
        "\n",
        "```\n",
        "迴圈\n",
        "\n",
        "準備一個計數器\n",
        "1. 開始值: i = 0\n",
        "2. 增加值: i = i + 1\n",
        "3. 對值進行檢查: i < 10\n",
        "\n",
        "i = 0\n",
        "while i < 10:\n",
        "    print(\"hello\")\n",
        "    i = i + 1\n",
        "\n",
        "* 好習慣: 這三行永遠不改\n",
        "* 次數: 在小於後面\n",
        "* i = 0...次-1\n",
        "\n",
        "* e.g. 1~10: i + 1\n",
        "* e.g. 10~1: 10 - i\n",
        "* e.g. 1 3 5 7 9: 2 * i + 1\n",
        "\n",
        "```\n",
        "\n"
      ],
      "metadata": {
        "id": "m7rwecbD0gW0"
      }
    },
    {
      "cell_type": "code",
      "source": [
        "i = 0\n",
        "while i < 10:\n",
        "    print(i, i+1, 10-i, 2*i+1)\n",
        "    i = i + 1"
      ],
      "metadata": {
        "colab": {
          "base_uri": "https://localhost:8080/"
        },
        "id": "LC98ZUf83Yik",
        "outputId": "26545da0-d60a-4a9e-a6ce-d4c164b85a93"
      },
      "execution_count": 7,
      "outputs": [
        {
          "output_type": "stream",
          "name": "stdout",
          "text": [
            "0 1 10 1\n",
            "1 2 9 3\n",
            "2 3 8 5\n",
            "3 4 7 7\n",
            "4 5 6 9\n",
            "5 6 5 11\n",
            "6 7 4 13\n",
            "7 8 3 15\n",
            "8 9 2 17\n",
            "9 10 1 19\n"
          ]
        }
      ]
    },
    {
      "cell_type": "markdown",
      "source": [
        "\n",
        "\n",
        "```\n",
        "x\n",
        "xx\n",
        "xxx\n",
        "xxxx\n",
        "```\n",
        "\n"
      ],
      "metadata": {
        "id": "_1E6ZeD06dWT"
      }
    },
    {
      "cell_type": "code",
      "source": [
        "i = 0\n",
        "while i < 10:\n",
        "    print(\"x\" * (i + 1))\n",
        "    i = i + 1"
      ],
      "metadata": {
        "id": "bXXmkEl467g6"
      },
      "execution_count": null,
      "outputs": []
    },
    {
      "cell_type": "markdown",
      "source": [
        "\n",
        "\n",
        "```\n",
        "___x\n",
        "__xx\n",
        "_xxx\n",
        "xxxx\n",
        "```\n",
        "\n"
      ],
      "metadata": {
        "id": "IUnfB0xb7H9b"
      }
    }
  ]
}