{
  "nbformat": 4,
  "nbformat_minor": 0,
  "metadata": {
    "colab": {
      "provenance": [],
      "authorship_tag": "ABX9TyMhOhccFEZMU08QWfoMB7tJ",
      "include_colab_link": true
    },
    "kernelspec": {
      "name": "python3",
      "display_name": "Python 3"
    },
    "language_info": {
      "name": "python"
    }
  },
  "cells": [
    {
      "cell_type": "markdown",
      "metadata": {
        "id": "view-in-github",
        "colab_type": "text"
      },
      "source": [
        "<a href=\"https://colab.research.google.com/github/Elwing-Chou/ximen0317/blob/main/ximen_0409.ipynb\" target=\"_parent\"><img src=\"https://colab.research.google.com/assets/colab-badge.svg\" alt=\"Open In Colab\"/></a>"
      ]
    },
    {
      "cell_type": "code",
      "execution_count": 9,
      "metadata": {
        "colab": {
          "base_uri": "https://localhost:8080/"
        },
        "id": "amQeq0jRVfe7",
        "outputId": "95bff617-573f-48e8-b55f-094372dc376b"
      },
      "outputs": [
        {
          "output_type": "stream",
          "name": "stdout",
          "text": [
            "<a class=\"list-rst__rst-name-target cpy-rst-name\" data-list-dest=\"item_top\" href=\"https://tabelog.com/tw/tokyo/A1304/A130401/13184186/\" rel=\"noopener\" target=\"_blank\">Bon.nu</a>\n",
            "https://tabelog.com/tw/tokyo/A1304/A130401/13184186/\n",
            "Bon.nu\n"
          ]
        }
      ],
      "source": [
        "import urllib.request as req\n",
        "# 第三方函式庫: BeautifulSoup4\n",
        "import bs4 as bs\n",
        "\n",
        "url = \"https://tabelog.com/tw/tokyo/rstLst/sweets/?SrtT=rt\"\n",
        "f = req.urlopen(url)\n",
        "content = f.read()\n",
        "# 轉換型態: 對應上次的就是json.loads\n",
        "content_convert = bs.BeautifulSoup(content)\n",
        "# print(content_convert)\n",
        "\n",
        "# 區塊.find/find_all(html名字, 篩選字典)\n",
        "target = content_convert.find(\"a\", {\"class\":\"list-rst__rst-name-target\"})\n",
        "# 擷取資訊\n",
        "# 1. 特殊屬性(字典): 區塊[屬姓名]\n",
        "# 2. 顯示內容(專屬值): 區塊.text\n",
        "# 型態: 可以擁有兩種東西(專屬功能/專屬值)\n",
        "# 專屬功能: 人.吃飯()   專屬值: 人.身高\n",
        "print(target)\n",
        "print(target[\"href\"])\n",
        "print(target.text)"
      ]
    },
    {
      "cell_type": "code",
      "source": [
        "import urllib.request as req\n",
        "# 第三方函式庫: BeautifulSoup4\n",
        "import bs4 as bs\n",
        "\n",
        "url = \"https://tabelog.com/tw/tokyo/rstLst/sweets/1/?SrtT=rt\"\n",
        "f = req.urlopen(url)\n",
        "content = f.read()\n",
        "content_convert = bs.BeautifulSoup(content)\n",
        "\n",
        "r_list = content_convert.find_all(\"div\", {\"class\":\"list-rst__body\"})\n",
        "for r in r_list:\n",
        "    en = r.find(\"a\", {\"class\":\"list-rst__rst-name-target\"})\n",
        "    en_href = en[\"href\"]\n",
        "    en_text = en.text\n",
        "\n",
        "    rank = r.find(\"span\", {\"class\":\"c-rating__val\"})\n",
        "    rank_text = rank.text\n",
        "\n",
        "    prices = r.find_all(\"span\", {\"class\":\"c-rating-v3__val\"})\n",
        "    dinner_price = prices[0].text\n",
        "    lunch_price = prices[1].text\n",
        "\n",
        "    print(en_text)\n",
        "    print(en_href)\n",
        "    print(rank_text)\n",
        "    print(dinner_price)\n",
        "    print(lunch_price)\n",
        "    print(\"-\" * 30)"
      ],
      "metadata": {
        "id": "Io_26eAxYSTY"
      },
      "execution_count": null,
      "outputs": []
    },
    {
      "cell_type": "code",
      "source": [
        "import urllib.request as req\n",
        "# 第三方函式庫: BeautifulSoup4\n",
        "import bs4 as bs\n",
        "\n",
        "page_total = 10\n",
        "for i in range(page_total):\n",
        "    page = i + 1\n",
        "    url = \"https://tabelog.com/tw/tokyo/rstLst/sweets/\" + str(page) + \"/?SrtT=rt\"\n",
        "    f = req.urlopen(url)\n",
        "    content = f.read()\n",
        "    content_convert = bs.BeautifulSoup(content)\n",
        "\n",
        "    r_list = content_convert.find_all(\"div\", {\"class\":\"list-rst__body\"})\n",
        "    for r in r_list:\n",
        "        en = r.find(\"a\", {\"class\":\"list-rst__rst-name-target\"})\n",
        "        en_href = en[\"href\"]\n",
        "        en_text = en.text\n",
        "\n",
        "        rank = r.find(\"span\", {\"class\":\"c-rating__val\"})\n",
        "        rank_text = rank.text\n",
        "\n",
        "        prices = r.find_all(\"span\", {\"class\":\"c-rating-v3__val\"})\n",
        "        dinner_price = prices[0].text\n",
        "        lunch_price = prices[1].text\n",
        "\n",
        "        print(en_text)\n",
        "        print(en_href)\n",
        "        print(rank_text)\n",
        "        print(dinner_price)\n",
        "        print(lunch_price)\n",
        "        print(\"-\" * 30)"
      ],
      "metadata": {
        "id": "xzW8fpr9nscY"
      },
      "execution_count": null,
      "outputs": []
    },
    {
      "cell_type": "markdown",
      "source": [
        "\n",
        "\n",
        "```\n",
        "1. 你要幫我多拿 rank dinner_price lunch_price\n",
        "2. 你要把程式加上迴圈 抓十頁\n",
        "```\n",
        "\n"
      ],
      "metadata": {
        "id": "DfLFi4J-eWmU"
      }
    },
    {
      "cell_type": "markdown",
      "source": [
        "\n",
        "\n",
        "```\n",
        "專屬功能\n",
        "1. 字串當例子, google \"python string method\"\n",
        "  你可以看一下w3schools\n",
        "```\n",
        "\n"
      ],
      "metadata": {
        "id": "AwJMyqZXqf73"
      }
    },
    {
      "cell_type": "code",
      "source": [
        "# 不是去改變s, 而是利用s做出新的值(回傳值)\n",
        "s = \"hello\" * 5\n",
        "b = s.replace(\"hello\", \"bye!\", 2)\n",
        "print(s)\n",
        "print(b)\n",
        "\n",
        "s = s.replace(\"hello\", \"bye!\")\n",
        "print(s)\n",
        "\n",
        "s_split = s.split(\"!\")\n",
        "print(s_split)\n",
        "\n",
        "s_join = \"~\".join(s_split)\n",
        "print(s_join)"
      ],
      "metadata": {
        "colab": {
          "base_uri": "https://localhost:8080/"
        },
        "id": "noYtSzQpqcxv",
        "outputId": "a06aedb0-731e-49f2-ea51-4b91c6e80fbe"
      },
      "execution_count": 23,
      "outputs": [
        {
          "output_type": "stream",
          "name": "stdout",
          "text": [
            "hellohellohellohellohello\n",
            "bye!bye!hellohellohello\n",
            "bye!bye!bye!bye!bye!\n",
            "['bye', 'bye', 'bye', 'bye', 'bye', '']\n",
            "bye~bye~bye~bye~bye~\n"
          ]
        }
      ]
    },
    {
      "cell_type": "markdown",
      "source": [
        "\n",
        "\n",
        "```\n",
        "list的專屬功能特別不一樣!!!!\n",
        "\n",
        "特別點1\n",
        "1. 以前我都跟你說: 沒=就不會改\n",
        "2. 清單的專屬功能真的會改(因為比較符合直覺)\n",
        "\n",
        "特別點2\n",
        "1. 以前我跟你說: 有些功能沒有回傳值(e.g. print)\n",
        "2. 要改: 任何功能都有回傳值, 只是有些功能回傳了None這個值\n",
        "\n",
        "Python基礎型態: 數字/字串/布林/無(!!! 4)\n",
        "Python複雜型態: list/dict.....\n",
        "\n",
        "```\n",
        "\n"
      ],
      "metadata": {
        "id": "on1SArurtx0m"
      }
    },
    {
      "cell_type": "code",
      "source": [
        "scores = [30, 20]\n",
        "b = scores.append(100)\n",
        "print(scores)\n",
        "print(b)\n",
        "\n",
        "# 這句可以幫你了解None\n",
        "print(print(4))\n",
        "\n",
        "# !!!!!!!!!!!! list專屬功能絕對不能犯的錯誤就是\n",
        "# 正常時候你都是可以設定回去的 s = s.replace  a = a + 1\n",
        "# 如果你設定回去接下來的操作發生 NoneType is xx的錯誤的話\n",
        "# 那就是這種(直接改了回傳None)\n",
        "# scores = scores.append(9999)\n",
        "# print(scores[-1])\n",
        "\n",
        "# 正確的list專屬功能寫法\n",
        "scores.append(20000)\n",
        "print(scores)"
      ],
      "metadata": {
        "colab": {
          "base_uri": "https://localhost:8080/"
        },
        "id": "iBbURF-juDt9",
        "outputId": "4a26e16b-049c-4045-e2ad-262a7f41dd72"
      },
      "execution_count": 29,
      "outputs": [
        {
          "output_type": "stream",
          "name": "stdout",
          "text": [
            "[30, 20, 100]\n",
            "None\n",
            "4\n",
            "None\n",
            "[30, 20, 100, 20000]\n"
          ]
        }
      ]
    },
    {
      "cell_type": "code",
      "source": [
        "import urllib.request as req\n",
        "import bs4 as bs\n",
        "# Step0. import\n",
        "import pandas as pd\n",
        "\n",
        "# Step1. 準備一個list\n",
        "table = []\n",
        "\n",
        "page_total = 10\n",
        "for i in range(page_total):\n",
        "    page = i + 1\n",
        "    url = \"https://tabelog.com/tw/tokyo/rstLst/sweets/\" + str(page) + \"/?SrtT=rt\"\n",
        "    f = req.urlopen(url)\n",
        "    content = f.read()\n",
        "    content_convert = bs.BeautifulSoup(content)\n",
        "\n",
        "    r_list = content_convert.find_all(\"div\", {\"class\":\"list-rst__body\"})\n",
        "    for r in r_list:\n",
        "        en = r.find(\"a\", {\"class\":\"list-rst__rst-name-target\"})\n",
        "        en_href = en[\"href\"]\n",
        "        en_text = en.text\n",
        "\n",
        "        rank = r.find(\"span\", {\"class\":\"c-rating__val\"})\n",
        "        rank_text = rank.text\n",
        "\n",
        "        prices = r.find_all(\"span\", {\"class\":\"c-rating-v3__val\"})\n",
        "        dinner_price = prices[0].text\n",
        "        lunch_price = prices[1].text\n",
        "        # step2. 準備你的每一筆資料\n",
        "        data = {\n",
        "            \"店名\": en_text,\n",
        "            \"網址\": en_href,\n",
        "            \"排名\": rank_text,\n",
        "            \"午餐\": lunch_price,\n",
        "            \"晚餐\": dinner_price\n",
        "        }\n",
        "        # list的專屬功能(不須設定就直接改)\n",
        "        table.append(data)\n",
        "\n",
        "# step3. 回到你上次的json格式\n",
        "df = pd.json_normalize(table)\n",
        "df.to_csv(\"tabelog.csv\", encoding=\"utf-8\")\n",
        "df.to_excel(\"tabelog.xlsx\")"
      ],
      "metadata": {
        "id": "bjz2BzSKyUXc"
      },
      "execution_count": 31,
      "outputs": []
    },
    {
      "cell_type": "code",
      "source": [],
      "metadata": {
        "id": "-jD05-SMyhLG"
      },
      "execution_count": null,
      "outputs": []
    }
  ]
}