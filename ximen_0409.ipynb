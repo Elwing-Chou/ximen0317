{
  "nbformat": 4,
  "nbformat_minor": 0,
  "metadata": {
    "colab": {
      "provenance": [],
      "authorship_tag": "ABX9TyNbigutE0l505oaavEowXaF",
      "include_colab_link": true
    },
    "kernelspec": {
      "name": "python3",
      "display_name": "Python 3"
    },
    "language_info": {
      "name": "python"
    }
  },
  "cells": [
    {
      "cell_type": "markdown",
      "metadata": {
        "id": "view-in-github",
        "colab_type": "text"
      },
      "source": [
        "<a href=\"https://colab.research.google.com/github/Elwing-Chou/ximen0317/blob/main/ximen_0409.ipynb\" target=\"_parent\"><img src=\"https://colab.research.google.com/assets/colab-badge.svg\" alt=\"Open In Colab\"/></a>"
      ]
    },
    {
      "cell_type": "code",
      "execution_count": 9,
      "metadata": {
        "colab": {
          "base_uri": "https://localhost:8080/"
        },
        "id": "amQeq0jRVfe7",
        "outputId": "95bff617-573f-48e8-b55f-094372dc376b"
      },
      "outputs": [
        {
          "output_type": "stream",
          "name": "stdout",
          "text": [
            "<a class=\"list-rst__rst-name-target cpy-rst-name\" data-list-dest=\"item_top\" href=\"https://tabelog.com/tw/tokyo/A1304/A130401/13184186/\" rel=\"noopener\" target=\"_blank\">Bon.nu</a>\n",
            "https://tabelog.com/tw/tokyo/A1304/A130401/13184186/\n",
            "Bon.nu\n"
          ]
        }
      ],
      "source": [
        "import urllib.request as req\n",
        "# 第三方函式庫: BeautifulSoup4\n",
        "import bs4 as bs\n",
        "\n",
        "url = \"https://tabelog.com/tw/tokyo/rstLst/sweets/?SrtT=rt\"\n",
        "f = req.urlopen(url)\n",
        "content = f.read()\n",
        "# 轉換型態: 對應上次的就是json.loads\n",
        "content_convert = bs.BeautifulSoup(content)\n",
        "# print(content_convert)\n",
        "\n",
        "# 區塊.find/find_all(html名字, 篩選字典)\n",
        "target = content_convert.find(\"a\", {\"class\":\"list-rst__rst-name-target\"})\n",
        "# 擷取資訊\n",
        "# 1. 特殊屬性(字典): 區塊[屬姓名]\n",
        "# 2. 顯示內容(專屬值): 區塊.text\n",
        "# 型態: 可以擁有兩種東西(專屬功能/專屬值)\n",
        "# 專屬功能: 人.吃飯()   專屬值: 人.身高\n",
        "print(target)\n",
        "print(target[\"href\"])\n",
        "print(target.text)"
      ]
    },
    {
      "cell_type": "code",
      "source": [
        "import urllib.request as req\n",
        "# 第三方函式庫: BeautifulSoup4\n",
        "import bs4 as bs\n",
        "\n",
        "url = \"https://tabelog.com/tw/tokyo/rstLst/sweets/1/?SrtT=rt\"\n",
        "f = req.urlopen(url)\n",
        "content = f.read()\n",
        "content_convert = bs.BeautifulSoup(content)\n",
        "\n",
        "r_list = content_convert.find_all(\"div\", {\"class\":\"list-rst__body\"})\n",
        "for r in r_list:\n",
        "    en = r.find(\"a\", {\"class\":\"list-rst__rst-name-target\"})\n",
        "    en_href = en[\"href\"]\n",
        "    en_text = en.text\n",
        "\n",
        "    rank = r.find(\"span\", {\"class\":\"c-rating__val\"})\n",
        "    rank_text = rank.text\n",
        "\n",
        "    prices = r.find_all(\"span\", {\"class\":\"c-rating-v3__val\"})\n",
        "    dinner_price = prices[0].text\n",
        "    lunch_price = prices[1].text\n",
        "\n",
        "    print(en_text)\n",
        "    print(en_href)\n",
        "    print(rank_text)\n",
        "    print(dinner_price)\n",
        "    print(lunch_price)\n",
        "    print(\"-\" * 30)"
      ],
      "metadata": {
        "id": "Io_26eAxYSTY"
      },
      "execution_count": null,
      "outputs": []
    },
    {
      "cell_type": "code",
      "source": [
        "import urllib.request as req\n",
        "# 第三方函式庫: BeautifulSoup4\n",
        "import bs4 as bs\n",
        "\n",
        "page_total = 10\n",
        "for i in range(page_total):\n",
        "    page = i + 1\n",
        "    url = \"https://tabelog.com/tw/tokyo/rstLst/sweets/\" + str(page) + \"/?SrtT=rt\"\n",
        "    f = req.urlopen(url)\n",
        "    content = f.read()\n",
        "    content_convert = bs.BeautifulSoup(content)\n",
        "\n",
        "    r_list = content_convert.find_all(\"div\", {\"class\":\"list-rst__body\"})\n",
        "    for r in r_list:\n",
        "        en = r.find(\"a\", {\"class\":\"list-rst__rst-name-target\"})\n",
        "        en_href = en[\"href\"]\n",
        "        en_text = en.text\n",
        "\n",
        "        rank = r.find(\"span\", {\"class\":\"c-rating__val\"})\n",
        "        rank_text = rank.text\n",
        "\n",
        "        prices = r.find_all(\"span\", {\"class\":\"c-rating-v3__val\"})\n",
        "        dinner_price = prices[0].text\n",
        "        lunch_price = prices[1].text\n",
        "\n",
        "        print(en_text)\n",
        "        print(en_href)\n",
        "        print(rank_text)\n",
        "        print(dinner_price)\n",
        "        print(lunch_price)\n",
        "        print(\"-\" * 30)"
      ],
      "metadata": {
        "id": "xzW8fpr9nscY"
      },
      "execution_count": null,
      "outputs": []
    },
    {
      "cell_type": "markdown",
      "source": [
        "\n",
        "\n",
        "```\n",
        "1. 你要幫我多拿 rank dinner_price lunch_price\n",
        "2. 你要把程式加上迴圈 抓十頁\n",
        "```\n",
        "\n"
      ],
      "metadata": {
        "id": "DfLFi4J-eWmU"
      }
    }
  ]
}