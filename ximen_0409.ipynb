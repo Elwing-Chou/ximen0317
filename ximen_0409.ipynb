{
  "nbformat": 4,
  "nbformat_minor": 0,
  "metadata": {
    "colab": {
      "provenance": [],
      "authorship_tag": "ABX9TyPoRZnvDrBGNwb/eLpsXyx6",
      "include_colab_link": true
    },
    "kernelspec": {
      "name": "python3",
      "display_name": "Python 3"
    },
    "language_info": {
      "name": "python"
    }
  },
  "cells": [
    {
      "cell_type": "markdown",
      "metadata": {
        "id": "view-in-github",
        "colab_type": "text"
      },
      "source": [
        "<a href=\"https://colab.research.google.com/github/Elwing-Chou/ximen0317/blob/main/ximen_0409.ipynb\" target=\"_parent\"><img src=\"https://colab.research.google.com/assets/colab-badge.svg\" alt=\"Open In Colab\"/></a>"
      ]
    },
    {
      "cell_type": "code",
      "execution_count": 9,
      "metadata": {
        "colab": {
          "base_uri": "https://localhost:8080/"
        },
        "id": "amQeq0jRVfe7",
        "outputId": "95bff617-573f-48e8-b55f-094372dc376b"
      },
      "outputs": [
        {
          "output_type": "stream",
          "name": "stdout",
          "text": [
            "<a class=\"list-rst__rst-name-target cpy-rst-name\" data-list-dest=\"item_top\" href=\"https://tabelog.com/tw/tokyo/A1304/A130401/13184186/\" rel=\"noopener\" target=\"_blank\">Bon.nu</a>\n",
            "https://tabelog.com/tw/tokyo/A1304/A130401/13184186/\n",
            "Bon.nu\n"
          ]
        }
      ],
      "source": [
        "import urllib.request as req\n",
        "# 第三方函式庫: BeautifulSoup4\n",
        "import bs4 as bs\n",
        "\n",
        "url = \"https://tabelog.com/tw/tokyo/rstLst/sweets/?SrtT=rt\"\n",
        "f = req.urlopen(url)\n",
        "content = f.read()\n",
        "# 轉換型態: 對應上次的就是json.loads\n",
        "content_convert = bs.BeautifulSoup(content)\n",
        "# print(content_convert)\n",
        "\n",
        "# 區塊.find/find_all(html名字, 篩選字典)\n",
        "target = content_convert.find(\"a\", {\"class\":\"list-rst__rst-name-target\"})\n",
        "# 擷取資訊\n",
        "# 1. 特殊屬性(字典): 區塊[屬姓名]\n",
        "# 2. 顯示內容(專屬值): 區塊.text\n",
        "# 型態: 可以擁有兩種東西(專屬功能/專屬值)\n",
        "# 專屬功能: 人.吃飯()   專屬值: 人.身高\n",
        "print(target)\n",
        "print(target[\"href\"])\n",
        "print(target.text)"
      ]
    },
    {
      "cell_type": "code",
      "source": [],
      "metadata": {
        "id": "Io_26eAxYSTY"
      },
      "execution_count": null,
      "outputs": []
    }
  ]
}